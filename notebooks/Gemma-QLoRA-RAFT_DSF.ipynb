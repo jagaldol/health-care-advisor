{
 "cells": [
  {
   "cell_type": "markdown",
   "id": "e564cade",
   "metadata": {},
   "source": [
    "# 필요한 라이브러리"
   ]
  },
  {
   "cell_type": "code",
   "execution_count": 1,
   "id": "b09128cf-3244-4dfc-b566-d3e7e09cfba1",
   "metadata": {},
   "outputs": [
    {
     "name": "stderr",
     "output_type": "stream",
     "text": [
      "/opt/conda/lib/python3.10/site-packages/tqdm/auto.py:21: TqdmWarning: IProgress not found. Please update jupyter and ipywidgets. See https://ipywidgets.readthedocs.io/en/stable/user_install.html\n",
      "  from .autonotebook import tqdm as notebook_tqdm\n"
     ]
    }
   ],
   "source": [
    "import torch\n",
    "from datasets import Dataset, load_dataset, DatasetDict\n",
    "from transformers import AutoTokenizer, AutoModelForCausalLM, BitsAndBytesConfig, pipeline, TrainingArguments\n",
    "from peft import LoraConfig, PeftModel\n",
    "from trl import SFTTrainer\n",
    "import pandas as pd"
   ]
  },
  {
   "cell_type": "code",
   "execution_count": 2,
   "id": "c971a8ff",
   "metadata": {},
   "outputs": [
    {
     "data": {
      "text/plain": [
       "True"
      ]
     },
     "execution_count": 2,
     "metadata": {},
     "output_type": "execute_result"
    }
   ],
   "source": [
    "import dotenv\n",
    "\n",
    "dotenv.load_dotenv()"
   ]
  },
  {
   "cell_type": "markdown",
   "id": "1bbd9298",
   "metadata": {},
   "source": [
    "# 데이터 전처리"
   ]
  },
  {
   "cell_type": "code",
   "execution_count": 3,
   "id": "b59a1450-08cd-41e1-84ee-ef5d88a789ff",
   "metadata": {},
   "outputs": [
    {
     "data": {
      "text/html": [
       "<div>\n",
       "<style scoped>\n",
       "    .dataframe tbody tr th:only-of-type {\n",
       "        vertical-align: middle;\n",
       "    }\n",
       "\n",
       "    .dataframe tbody tr th {\n",
       "        vertical-align: top;\n",
       "    }\n",
       "\n",
       "    .dataframe thead th {\n",
       "        text-align: right;\n",
       "    }\n",
       "</style>\n",
       "<table border=\"1\" class=\"dataframe\">\n",
       "  <thead>\n",
       "    <tr style=\"text-align: right;\">\n",
       "      <th></th>\n",
       "      <th>fileName</th>\n",
       "      <th>disease_category</th>\n",
       "      <th>disease_name_kor</th>\n",
       "      <th>department</th>\n",
       "      <th>intention</th>\n",
       "      <th>Question</th>\n",
       "      <th>gpt_document</th>\n",
       "      <th>documents</th>\n",
       "      <th>is_golden</th>\n",
       "      <th>answer</th>\n",
       "    </tr>\n",
       "  </thead>\n",
       "  <tbody>\n",
       "    <tr>\n",
       "      <th>0</th>\n",
       "      <td>HC-A-03595800</td>\n",
       "      <td>근골격질환</td>\n",
       "      <td>족저 근막염</td>\n",
       "      <td>재활의학과</td>\n",
       "      <td>재활</td>\n",
       "      <td>족저 근막염 재활을 위해 어떤 조치를 취해야 하나요?</td>\n",
       "      <td>족저 근막염 재활은 발 건강을 회복하고 통증을 완화하기 위해 다양한 조치들을 취하는...</td>\n",
       "      <td>['족저 근막염 재활은 발 건강을 회복하고 통증을 완화하기 위해 다양한 조치들을 취...</td>\n",
       "      <td>True</td>\n",
       "      <td>족저 근막염 재활을 위해 취해야 할 조치는 다음과 같습니다:\\n\\n1. **스트레칭...</td>\n",
       "    </tr>\n",
       "    <tr>\n",
       "      <th>1</th>\n",
       "      <td>HC-A-07091454</td>\n",
       "      <td>뇌신경정신질환</td>\n",
       "      <td>알코올성 치매</td>\n",
       "      <td>신경과, 정신건강의학과, 내과</td>\n",
       "      <td>예방</td>\n",
       "      <td>알코올성 치매를 예방하기 위해 어떤 조치를 취해야 하나요?</td>\n",
       "      <td>알코올성 치매의 예방을 위해 다음과 같은 조치를 취할 수 있습니다. 음주량을 줄이는...</td>\n",
       "      <td>['HIV 감염을 치료하거나 관리하기 위해 현재 사용되는 약물은 주로 치료 가능한 ...</td>\n",
       "      <td>True</td>\n",
       "      <td>알코올성 치매를 예방하기 위해서는 다음과 같은 조치를 취하는 것이 중요합니다.\\n\\...</td>\n",
       "    </tr>\n",
       "    <tr>\n",
       "      <th>2</th>\n",
       "      <td>HC-A-03521566</td>\n",
       "      <td>종양혈액질환</td>\n",
       "      <td>전립선암</td>\n",
       "      <td>비뇨의학과</td>\n",
       "      <td>정의</td>\n",
       "      <td>전립선암의 주요 증상은 무엇인가요?</td>\n",
       "      <td>전립선암은 남성에게 흔히 발생하는 악성 종양으로, 전립선에 암세포가 생기는 질환입니...</td>\n",
       "      <td>['무지외반증 교정기는 엄지발가락을 효과적으로 교정하여 발가락의 변형을 개선하는 치...</td>\n",
       "      <td>True</td>\n",
       "      <td>전립선암의 주요 증상은 주로 배뇨와 관련된 문제들입니다. 다음은 전립선암에서 흔히 ...</td>\n",
       "    </tr>\n",
       "    <tr>\n",
       "      <th>3</th>\n",
       "      <td>HC-A-05746826</td>\n",
       "      <td>뇌신경정신질환</td>\n",
       "      <td>편집성 인격장애</td>\n",
       "      <td>정신건강의학과</td>\n",
       "      <td>치료</td>\n",
       "      <td>편집성 인격장애의 치료 방법은 어떤 것들이 있나요?</td>\n",
       "      <td>편집성 인격장애의 치료에는 다양한 방법이 있습니다. 치료에는 정신 치료와 약물 치료...</td>\n",
       "      <td>['편집성 인격장애의 치료에는 다양한 방법이 있습니다. 치료에는 정신 치료와 약물 ...</td>\n",
       "      <td>True</td>\n",
       "      <td>편집성 인격장애의 치료 방법에는 여러 가지가 있습니다. 주로 정신 치료와 약물 치료...</td>\n",
       "    </tr>\n",
       "    <tr>\n",
       "      <th>4</th>\n",
       "      <td>HC-A-02685918</td>\n",
       "      <td>유전질환</td>\n",
       "      <td>다운 증후군</td>\n",
       "      <td>내과</td>\n",
       "      <td>증상</td>\n",
       "      <td>다운증후군의 주요 증상은 무엇인가요?</td>\n",
       "      <td>다운증후군은 유전적인 질환으로서 약 700~800명당 한명의 빈도로 나타나는 희귀한...</td>\n",
       "      <td>['다운증후군은 유전적인 질환으로서 약 700~800명당 한명의 빈도로 나타나는 희...</td>\n",
       "      <td>True</td>\n",
       "      <td>다운증후군의 주요 증상은 여러 가지가 있으며, 각 개인에 따라 다를 수 있습니다. ...</td>\n",
       "    </tr>\n",
       "  </tbody>\n",
       "</table>\n",
       "</div>"
      ],
      "text/plain": [
       "        fileName disease_category disease_name_kor        department  \\\n",
       "0  HC-A-03595800            근골격질환           족저 근막염             재활의학과   \n",
       "1  HC-A-07091454          뇌신경정신질환          알코올성 치매  신경과, 정신건강의학과, 내과   \n",
       "2  HC-A-03521566           종양혈액질환             전립선암             비뇨의학과   \n",
       "3  HC-A-05746826          뇌신경정신질환         편집성 인격장애           정신건강의학과   \n",
       "4  HC-A-02685918             유전질환           다운 증후군                내과   \n",
       "\n",
       "  intention                          Question  \\\n",
       "0        재활     족저 근막염 재활을 위해 어떤 조치를 취해야 하나요?   \n",
       "1        예방  알코올성 치매를 예방하기 위해 어떤 조치를 취해야 하나요?   \n",
       "2        정의               전립선암의 주요 증상은 무엇인가요?   \n",
       "3        치료      편집성 인격장애의 치료 방법은 어떤 것들이 있나요?   \n",
       "4        증상              다운증후군의 주요 증상은 무엇인가요?   \n",
       "\n",
       "                                        gpt_document  \\\n",
       "0  족저 근막염 재활은 발 건강을 회복하고 통증을 완화하기 위해 다양한 조치들을 취하는...   \n",
       "1  알코올성 치매의 예방을 위해 다음과 같은 조치를 취할 수 있습니다. 음주량을 줄이는...   \n",
       "2  전립선암은 남성에게 흔히 발생하는 악성 종양으로, 전립선에 암세포가 생기는 질환입니...   \n",
       "3  편집성 인격장애의 치료에는 다양한 방법이 있습니다. 치료에는 정신 치료와 약물 치료...   \n",
       "4  다운증후군은 유전적인 질환으로서 약 700~800명당 한명의 빈도로 나타나는 희귀한...   \n",
       "\n",
       "                                           documents  is_golden  \\\n",
       "0  ['족저 근막염 재활은 발 건강을 회복하고 통증을 완화하기 위해 다양한 조치들을 취...       True   \n",
       "1  ['HIV 감염을 치료하거나 관리하기 위해 현재 사용되는 약물은 주로 치료 가능한 ...       True   \n",
       "2  ['무지외반증 교정기는 엄지발가락을 효과적으로 교정하여 발가락의 변형을 개선하는 치...       True   \n",
       "3  ['편집성 인격장애의 치료에는 다양한 방법이 있습니다. 치료에는 정신 치료와 약물 ...       True   \n",
       "4  ['다운증후군은 유전적인 질환으로서 약 700~800명당 한명의 빈도로 나타나는 희...       True   \n",
       "\n",
       "                                              answer  \n",
       "0  족저 근막염 재활을 위해 취해야 할 조치는 다음과 같습니다:\\n\\n1. **스트레칭...  \n",
       "1  알코올성 치매를 예방하기 위해서는 다음과 같은 조치를 취하는 것이 중요합니다.\\n\\...  \n",
       "2  전립선암의 주요 증상은 주로 배뇨와 관련된 문제들입니다. 다음은 전립선암에서 흔히 ...  \n",
       "3  편집성 인격장애의 치료 방법에는 여러 가지가 있습니다. 주로 정신 치료와 약물 치료...  \n",
       "4  다운증후군의 주요 증상은 여러 가지가 있으며, 각 개인에 따라 다를 수 있습니다. ...  "
      ]
     },
     "execution_count": 3,
     "metadata": {},
     "output_type": "execute_result"
    }
   ],
   "source": [
    "# 전처리 끝난 final.csv\n",
    "df = pd.read_csv('raft_dataset.csv')\n",
    "df.head()"
   ]
  },
  {
   "cell_type": "code",
   "execution_count": 4,
   "id": "7350d29a",
   "metadata": {},
   "outputs": [
    {
     "data": {
      "text/html": [
       "<div>\n",
       "<style scoped>\n",
       "    .dataframe tbody tr th:only-of-type {\n",
       "        vertical-align: middle;\n",
       "    }\n",
       "\n",
       "    .dataframe tbody tr th {\n",
       "        vertical-align: top;\n",
       "    }\n",
       "\n",
       "    .dataframe thead th {\n",
       "        text-align: right;\n",
       "    }\n",
       "</style>\n",
       "<table border=\"1\" class=\"dataframe\">\n",
       "  <thead>\n",
       "    <tr style=\"text-align: right;\">\n",
       "      <th></th>\n",
       "      <th>Question</th>\n",
       "      <th>documents</th>\n",
       "      <th>answer</th>\n",
       "    </tr>\n",
       "  </thead>\n",
       "  <tbody>\n",
       "    <tr>\n",
       "      <th>0</th>\n",
       "      <td>족저 근막염 재활을 위해 어떤 조치를 취해야 하나요?</td>\n",
       "      <td>['족저 근막염 재활은 발 건강을 회복하고 통증을 완화하기 위해 다양한 조치들을 취...</td>\n",
       "      <td>족저 근막염 재활을 위해 취해야 할 조치는 다음과 같습니다:\\n\\n1. **스트레칭...</td>\n",
       "    </tr>\n",
       "    <tr>\n",
       "      <th>1</th>\n",
       "      <td>알코올성 치매를 예방하기 위해 어떤 조치를 취해야 하나요?</td>\n",
       "      <td>['HIV 감염을 치료하거나 관리하기 위해 현재 사용되는 약물은 주로 치료 가능한 ...</td>\n",
       "      <td>알코올성 치매를 예방하기 위해서는 다음과 같은 조치를 취하는 것이 중요합니다.\\n\\...</td>\n",
       "    </tr>\n",
       "    <tr>\n",
       "      <th>2</th>\n",
       "      <td>전립선암의 주요 증상은 무엇인가요?</td>\n",
       "      <td>['무지외반증 교정기는 엄지발가락을 효과적으로 교정하여 발가락의 변형을 개선하는 치...</td>\n",
       "      <td>전립선암의 주요 증상은 주로 배뇨와 관련된 문제들입니다. 다음은 전립선암에서 흔히 ...</td>\n",
       "    </tr>\n",
       "    <tr>\n",
       "      <th>3</th>\n",
       "      <td>편집성 인격장애의 치료 방법은 어떤 것들이 있나요?</td>\n",
       "      <td>['편집성 인격장애의 치료에는 다양한 방법이 있습니다. 치료에는 정신 치료와 약물 ...</td>\n",
       "      <td>편집성 인격장애의 치료 방법에는 여러 가지가 있습니다. 주로 정신 치료와 약물 치료...</td>\n",
       "    </tr>\n",
       "    <tr>\n",
       "      <th>4</th>\n",
       "      <td>다운증후군의 주요 증상은 무엇인가요?</td>\n",
       "      <td>['다운증후군은 유전적인 질환으로서 약 700~800명당 한명의 빈도로 나타나는 희...</td>\n",
       "      <td>다운증후군의 주요 증상은 여러 가지가 있으며, 각 개인에 따라 다를 수 있습니다. ...</td>\n",
       "    </tr>\n",
       "  </tbody>\n",
       "</table>\n",
       "</div>"
      ],
      "text/plain": [
       "                           Question  \\\n",
       "0     족저 근막염 재활을 위해 어떤 조치를 취해야 하나요?   \n",
       "1  알코올성 치매를 예방하기 위해 어떤 조치를 취해야 하나요?   \n",
       "2               전립선암의 주요 증상은 무엇인가요?   \n",
       "3      편집성 인격장애의 치료 방법은 어떤 것들이 있나요?   \n",
       "4              다운증후군의 주요 증상은 무엇인가요?   \n",
       "\n",
       "                                           documents  \\\n",
       "0  ['족저 근막염 재활은 발 건강을 회복하고 통증을 완화하기 위해 다양한 조치들을 취...   \n",
       "1  ['HIV 감염을 치료하거나 관리하기 위해 현재 사용되는 약물은 주로 치료 가능한 ...   \n",
       "2  ['무지외반증 교정기는 엄지발가락을 효과적으로 교정하여 발가락의 변형을 개선하는 치...   \n",
       "3  ['편집성 인격장애의 치료에는 다양한 방법이 있습니다. 치료에는 정신 치료와 약물 ...   \n",
       "4  ['다운증후군은 유전적인 질환으로서 약 700~800명당 한명의 빈도로 나타나는 희...   \n",
       "\n",
       "                                              answer  \n",
       "0  족저 근막염 재활을 위해 취해야 할 조치는 다음과 같습니다:\\n\\n1. **스트레칭...  \n",
       "1  알코올성 치매를 예방하기 위해서는 다음과 같은 조치를 취하는 것이 중요합니다.\\n\\...  \n",
       "2  전립선암의 주요 증상은 주로 배뇨와 관련된 문제들입니다. 다음은 전립선암에서 흔히 ...  \n",
       "3  편집성 인격장애의 치료 방법에는 여러 가지가 있습니다. 주로 정신 치료와 약물 치료...  \n",
       "4  다운증후군의 주요 증상은 여러 가지가 있으며, 각 개인에 따라 다를 수 있습니다. ...  "
      ]
     },
     "execution_count": 4,
     "metadata": {},
     "output_type": "execute_result"
    }
   ],
   "source": [
    "df = df.drop(columns=['fileName', 'disease_category', 'disease_name_kor', 'department', 'intention', 'gpt_document', 'is_golden'])\n",
    "df.head()"
   ]
  },
  {
   "cell_type": "code",
   "execution_count": 5,
   "id": "860d374d",
   "metadata": {},
   "outputs": [
    {
     "data": {
      "text/plain": [
       "[\"<bos><start_of_turn>user\\n<Question>:족저 근막염 재활을 위해 어떤 조치를 취해야 하나요? \\n<Documents>:['족저 근막염 재활은 발 건강을 회복하고 통증을 완화하기 위해 다양한 조치들을 취하는 것이 중요합니다. 1. 치료: 족저 근막염 재활의 첫 번째 단계는 스트레칭과 근력강화 운동입니다. 이를 통해 발 아랫부분 근육을 유연하게 만들고 발의 피로를 완화할 수 있습니다. 2. 지지대 사용: 족저 근막염을 치료할 때는 발의 아치를 지원하는 지지대를 사용해야 합니다. 3. 체중 관리: 충분한 식이조절과 체중 관리는 족저 근막염 재활에 도움이 됩니다. 4. 휴식과 활동 조절: 통증이 심한 경우 적절한 휴식을 취하고 활동을 조절하여 발의 근육을 안정화시키세요. 5. 약물 치료: 족저 근막염을 치료하기 위해 스테로이드 제제, 항염증제, 진통제 등의 약물을 사용할 수 있습니다. 이러한 조치들을 취함으로써 족저 근막염 재활을 통해 발건강을 회복하고 통증을 완화할 수 있습니다.', '외상 후 스트레스 장애 치료를 위해 약물 치료가 선택될 수 있습니다. 약물 치료는 다양한 형태의 선택적 세로토닌 재흡수 억제제(SSRI)와 이차적인 약물을 포함합니다. SSRI는 선택적 세로토닌 재흡수 억제제(SSRI)라고도 불리며, 세로토닌과 노르에피네프린의 분비를 조절하여 불안과 우울의 증상을 완화시킵니다. 외상 후 스트레스 장애 치료를 위해 SSRI와 같은 선택적 세로토닌 재흡수 억제제(SSRI)가 사용될 수 있습니다. 그러나 약물 치료는 개별적인 환자 상황에 따라 다를 수 있으므로 약물 치료의 효과를 평가하기 위해서는 의사와의 상담이 필요합니다.']\\n<end_of_turn>\\n<start_of_turn>model\\n<Answer>:족저 근막염 재활을 위해 취해야 할 조치는 다음과 같습니다:\\n\\n1. **스트레칭과 근력강화 운동**: 족저 근막염의 첫 단계로 발의 아랫부분 근육을 유연하게 하고 피로를 줄이기 위해 스트레칭과 근력강화 운동을 수행하는 것이 중요합니다. 이러한 운동은 발의 회복을 도와줍니다.\\n\\n2. **지지대 사용**: 발의 아치를 지원하는 지지대를 사용하는 것이 좋습니다. 지지대는 발의 하중을 고르게 분산시켜 통증을 완화하는 데 도움이 됩니다.\\n\\n3. **체중 관리**: 적절한 식이조절과 체중 관리는 회복을 지원합니다. 체중이 많이 나가면 족저 근막염 증상이 악화될 수 있기 때문에 가능한 체중을 조절하는 것이 중요합니다.\\n\\n4. **휴식과 활동 조절**: 통증이 심할 경우 적절한 휴식을 취하고 활동을 조절하여 발의 근육을 안정화시키는 것이 필요합니다. 과도한 활동은 상태를 악화시킬 수 있습니다.\\n\\n5. **약물 치료**: 경우에 따라 스테로이드 제제, 항염증제, 진통제 등의 약물을 사용하여 통증과 염증을 줄이는 것도 고려할 수 있습니다. 이러한 약물은 의사의 처방에 따라 사용해야 합니다.\\n\\n이러한 조치들을 통해 족저 근막염의 재활을 돕고 발 건강을 회복할 수 있습니다. 계속해서 증상이 심해지거나 변화가 없다면 전문가와 상담하는 것이 좋습니다.<end_of_turn><eos>\",\n",
       " \"<bos><start_of_turn>user\\n<Question>:알코올성 치매를 예방하기 위해 어떤 조치를 취해야 하나요? \\n<Documents>:['HIV 감염을 치료하거나 관리하기 위해 현재 사용되는 약물은 주로 치료 가능한 항레트로바이러스 항체를 생성하거나, 감염의 진행을 억제하기 위해 항바이러스 약물이 사용됩니다. HIV 치료에 사용되는 항레트로바이러스 약물에는 비뉴클레오시드 역전사효소 억제제(NNRTI)와 뉴클레오시드 아날로그 역전사효소 억제제(NRTI)가 있습니다. 이러한 약물은 HIV 감염자에게 HIV의 복제를 억제하고, 바이러스의 활동을 억제하는 데 도움을 줍니다. HIV 치료는 효과적인 항레트로바이러스 약물의 사용으로 효과적인 결과를 얻을 수 있습니다. 그러나 약물을 사용함에 있어서 주의해야 할 점은 치료 과정에서 감염의 경과와 감염의 다른 가능한 합병증을 주시하는 것입니다.', '알코올성 치매의 예방을 위해 다음과 같은 조치를 취할 수 있습니다. 음주량을 줄이는 것이 가장 중요한 예방 방법 중 하나입니다. 음주량을 제한하고 과도한 음주를 피하는 것이 알코올성 치매의 발생을 예방하는 데 도움이 됩니다. 음주 전후에는 탄수화물을 풍부하게 함유한 음식을 섭취하고, 알코올을 분해할 수 있는 효소의 활동을 도와주는 비타민 C가 풍부한 과일과 야채를 섭취해야 합니다. 또한, 술을 마실 때에는 공복일 때에는 절대로 음주하지 않아야 합니다. 음주를 하기 전에는 적절한 시간에 소량의 음주를 하고, 가능한 한 음주 횟수를 줄이는 것도 좋습니다. 음주 중에는 계속해서 술을 마시기보다는 한 번에 술잔을 전부 비우지 않고 분할로 마시는 것이 좋습니다. 피곤한 상태나 체력이 좋지 않은 경우에는 음주를 피하는 것이 중요합니다. 음주 후에는 일정한 시간 동안 음주를 하지 않고 음주를 피해야 하며, 알코올이 간에 미치는 영향을 최소화하기 위해 술을 마실 때에는 물을 많이 마시고 수분을 충분히 섭취해야 합니다. 알코올성 치매 예방을 위해 알코올과 함께 먹을 수 있는 음식이나 술, 음료를 균형 있게 섭취하고, 충분한 휴식을 취하고 스트레스를 관리하는 것이 중요합니다. 이러한 예방 방법을 지속적으로 실천하면 알코올성 치매의 발생 위험을 줄일 수 있습니다.']\\n<end_of_turn>\\n<start_of_turn>model\\n<Answer>:알코올성 치매를 예방하기 위해서는 다음과 같은 조치를 취하는 것이 중요합니다.\\n\\n1. **음주량 줄이기**: 가장 중요한 예방 방법 중 하나는 음주량을 줄이는 것입니다. 과도한 음주를 피하고 음주를 제한하는 것이 알코올성 치매의 발생을 예방하는 데 큰 도움이 됩니다.\\n\\n2. **식사와 함께 음주하기**: 음주 전후에는 탄수화물이 풍부한 음식을 섭취하는 습관을 들이세요. 이는 알코올 흡수를 늦추고, 알코올이 체내에서 효과적으로 분해될 수 있도록 도와줄 수 있습니다.\\n\\n3. **비타민 섭취**: 알코올 분해를 돕는 비타민 C가 풍부한 과일과 야채를 섭취하는 것이 좋습니다. 이는 간의 기능을 유지하는 데 도움이 됩니다.\\n\\n4. **공복에 음주 피하기**: 절대로 공복 상태에서 술을 마시지 마세요. 이는 알코올의 급속한 흡수로 이어져 간에 더 큰 부담을 줄 수 있습니다.\\n\\n5. **소량 음주 유지**: 술을 마실 때는 한 번에 술잔을 모두 비우기보다는 천천히 마시는 것이 좋습니다. 또한, 음주 횟수를 가능한 한 줄이는 것도 예방에 큰 도움이 됩니다.\\n\\n6. **신체 상태 고려**: 피곤한 상태나 체력이 좋지 않은 경우에는 음주를 피하는 것이 중요합니다. 이러한 상황에서는 알코올의 영향을 더 크게 받기 때문입니다.\\n\\n7. **수분 섭취**: 음주 시에는 물을 많이 마시고 수분을 충분히 섭취해 알코올이 간에 미치는 영향을 최소화해야 합니다.\\n\\n8. **휴식과 스트레스 관리**: 충분한 휴식을 취하고 스트레스를 관리하는 것도 매우 중요합니다. 스트레스는 술을 마시는 이유 중 하나가 될 수 있으며, 이를 관리함으로써 음주를 줄일 수 있습니다.\\n\\n이러한 예방 방법들을 지속적으로 실천하면 알코올성 치매의 발생 위험을 줄일 수 있습니다. 꾸준한 노력으로 건강을 지키는 것이 중요합니다.<end_of_turn><eos>\"]"
      ]
     },
     "execution_count": 5,
     "metadata": {},
     "output_type": "execute_result"
    }
   ],
   "source": [
    "# 위에서 pandas Dataframe으로부터 만들었던 dataset을 매개변수로 받는다.\n",
    "def generate_raft_prompt(example):\n",
    "\n",
    "  prompt_list = []\n",
    "  for i in range(len(example['Question'])):\n",
    "    prompt = f\"\"\"<Question>:{example['Question'][i]} \n",
    "<Documents>:{example['documents'][i]}\n",
    "\"\"\"\n",
    "    prompt_list.append(f\"\"\"<bos><start_of_turn>user\n",
    "{prompt}<end_of_turn>\n",
    "<start_of_turn>model\n",
    "<Answer>:{example['answer'][i]}<end_of_turn><eos>\"\"\")\n",
    "  return prompt_list\n",
    "\n",
    "test = generate_raft_prompt(df.iloc[0:2])\n",
    "test"
   ]
  },
  {
   "cell_type": "code",
   "execution_count": 6,
   "id": "710ab58b",
   "metadata": {},
   "outputs": [
    {
     "data": {
      "text/plain": [
       "['<bos><start_of_turn>user\\n<Question>:족저 근막염 재활을 위해 어떤 조치를 취해야 하나요?<end_of_turn>\\n<start_of_turn>model\\n<Answer>:족저 근막염 재활을 위해 취해야 할 조치는 다음과 같습니다:\\n\\n1. **스트레칭과 근력강화 운동**: 족저 근막염의 첫 단계로 발의 아랫부분 근육을 유연하게 하고 피로를 줄이기 위해 스트레칭과 근력강화 운동을 수행하는 것이 중요합니다. 이러한 운동은 발의 회복을 도와줍니다.\\n\\n2. **지지대 사용**: 발의 아치를 지원하는 지지대를 사용하는 것이 좋습니다. 지지대는 발의 하중을 고르게 분산시켜 통증을 완화하는 데 도움이 됩니다.\\n\\n3. **체중 관리**: 적절한 식이조절과 체중 관리는 회복을 지원합니다. 체중이 많이 나가면 족저 근막염 증상이 악화될 수 있기 때문에 가능한 체중을 조절하는 것이 중요합니다.\\n\\n4. **휴식과 활동 조절**: 통증이 심할 경우 적절한 휴식을 취하고 활동을 조절하여 발의 근육을 안정화시키는 것이 필요합니다. 과도한 활동은 상태를 악화시킬 수 있습니다.\\n\\n5. **약물 치료**: 경우에 따라 스테로이드 제제, 항염증제, 진통제 등의 약물을 사용하여 통증과 염증을 줄이는 것도 고려할 수 있습니다. 이러한 약물은 의사의 처방에 따라 사용해야 합니다.\\n\\n이러한 조치들을 통해 족저 근막염의 재활을 돕고 발 건강을 회복할 수 있습니다. 계속해서 증상이 심해지거나 변화가 없다면 전문가와 상담하는 것이 좋습니다.<end_of_turn><eos>',\n",
       " '<bos><start_of_turn>user\\n<Question>:알코올성 치매를 예방하기 위해 어떤 조치를 취해야 하나요?<end_of_turn>\\n<start_of_turn>model\\n<Answer>:알코올성 치매를 예방하기 위해서는 다음과 같은 조치를 취하는 것이 중요합니다.\\n\\n1. **음주량 줄이기**: 가장 중요한 예방 방법 중 하나는 음주량을 줄이는 것입니다. 과도한 음주를 피하고 음주를 제한하는 것이 알코올성 치매의 발생을 예방하는 데 큰 도움이 됩니다.\\n\\n2. **식사와 함께 음주하기**: 음주 전후에는 탄수화물이 풍부한 음식을 섭취하는 습관을 들이세요. 이는 알코올 흡수를 늦추고, 알코올이 체내에서 효과적으로 분해될 수 있도록 도와줄 수 있습니다.\\n\\n3. **비타민 섭취**: 알코올 분해를 돕는 비타민 C가 풍부한 과일과 야채를 섭취하는 것이 좋습니다. 이는 간의 기능을 유지하는 데 도움이 됩니다.\\n\\n4. **공복에 음주 피하기**: 절대로 공복 상태에서 술을 마시지 마세요. 이는 알코올의 급속한 흡수로 이어져 간에 더 큰 부담을 줄 수 있습니다.\\n\\n5. **소량 음주 유지**: 술을 마실 때는 한 번에 술잔을 모두 비우기보다는 천천히 마시는 것이 좋습니다. 또한, 음주 횟수를 가능한 한 줄이는 것도 예방에 큰 도움이 됩니다.\\n\\n6. **신체 상태 고려**: 피곤한 상태나 체력이 좋지 않은 경우에는 음주를 피하는 것이 중요합니다. 이러한 상황에서는 알코올의 영향을 더 크게 받기 때문입니다.\\n\\n7. **수분 섭취**: 음주 시에는 물을 많이 마시고 수분을 충분히 섭취해 알코올이 간에 미치는 영향을 최소화해야 합니다.\\n\\n8. **휴식과 스트레스 관리**: 충분한 휴식을 취하고 스트레스를 관리하는 것도 매우 중요합니다. 스트레스는 술을 마시는 이유 중 하나가 될 수 있으며, 이를 관리함으로써 음주를 줄일 수 있습니다.\\n\\n이러한 예방 방법들을 지속적으로 실천하면 알코올성 치매의 발생 위험을 줄일 수 있습니다. 꾸준한 노력으로 건강을 지키는 것이 중요합니다.<end_of_turn><eos>']"
      ]
     },
     "execution_count": 6,
     "metadata": {},
     "output_type": "execute_result"
    }
   ],
   "source": [
    "# 위에서 pandas Dataframe으로부터 만들었던 dataset을 매개변수로 받는다.\n",
    "def generate_dsf_prompt(example):\n",
    "\n",
    "  prompt_list = []\n",
    "  for i in range(len(example['Question'])):\n",
    "    prompt_list.append(f\"\"\"<bos><start_of_turn>user\n",
    "<Question>:{example['Question'][i]}<end_of_turn>\n",
    "<start_of_turn>model\n",
    "<Answer>:{example['answer'][i]}<end_of_turn><eos>\"\"\")\n",
    "  return prompt_list\n",
    "\n",
    "test = generate_dsf_prompt(df.iloc[0:2])\n",
    "test"
   ]
  },
  {
   "cell_type": "code",
   "execution_count": 7,
   "id": "2aa5e758-95c0-4d4e-ac65-cf754e3df7c6",
   "metadata": {},
   "outputs": [
    {
     "name": "stdout",
     "output_type": "stream",
     "text": [
      "Dataset({\n",
      "    features: ['Question', 'documents', 'answer'],\n",
      "    num_rows: 16489\n",
      "})\n"
     ]
    }
   ],
   "source": [
    "# pandas 데이터프레임을 Trainer에서 사용하기 위한 dataset 모양으로 변경\n",
    "dataset = Dataset.from_pandas(df)\n",
    "print(dataset)"
   ]
  },
  {
   "cell_type": "markdown",
   "id": "fd39e3df",
   "metadata": {},
   "source": [
    "# Q - LoRA 파인튜닝"
   ]
  },
  {
   "cell_type": "code",
   "execution_count": 8,
   "id": "324e2ba8",
   "metadata": {},
   "outputs": [],
   "source": [
    "BASE_MODEL = \"google/gemma-2b-it\"\n",
    "OUTPUT_DIR = \"./raft\"\n",
    "ADAPTER_MODEL = \"./raft/lora_adapter/HC\"\n",
    "FINETUNE_MODEL = \"./raft/gemma2b-it-ko-HC\""
   ]
  },
  {
   "cell_type": "code",
   "execution_count": 9,
   "id": "63d63eef-4550-4b38-9c45-3479b92ddd58",
   "metadata": {},
   "outputs": [],
   "source": [
    "lora_config = LoraConfig(\n",
    "    r=6, # 저차원 행렬의 랭크(rank) 정의\n",
    "    lora_alpha = 8, # LoRA에서 사용되는 스케일링(Scaling) 팩터\n",
    "    lora_dropout = 0.05, # 드롭아웃으로 과적합 방지\n",
    "    target_modules=[\"q_proj\", \"o_proj\", \"k_proj\", \"v_proj\", \"gate_proj\", \"up_proj\", \"down_proj\"],\n",
    "    # LoRA 적용을 위한 모델 내의 특정 레이어(모듈) 지정\n",
    "    task_type=\"CAUSAL_LM\", # task_type은 LoRA가 적용되는 작업의 유형을 지정함\n",
    "    # 여기서는 CAUSAL_LM(Causal Language Modeling)을 나타낸다.\n",
    ")\n",
    "\n",
    "bnb_config = BitsAndBytesConfig(\n",
    "    # 입력값을 4 bit로 변환\n",
    "    load_in_4bit=True,\n",
    "    # 모델을 4 bit으로 양자화\n",
    "    bnb_4bit_quant_type=\"nf4\",\n",
    "    # 4 bit 계산에 사용될 데이터 유형, 4비트 부동소수점(bfloat16), 4비트 정수(uint8)\n",
    "    bnb_4bit_compute_dtype=torch.float16\n",
    ")"
   ]
  },
  {
   "cell_type": "code",
   "execution_count": 10,
   "id": "dfa7dc44-2792-4c79-bbe7-bd912b44f9a9",
   "metadata": {},
   "outputs": [
    {
     "name": "stderr",
     "output_type": "stream",
     "text": [
      "`low_cpu_mem_usage` was None, now set to True since model is quantized.\n",
      "`config.hidden_act` is ignored, you should use `config.hidden_activation` instead.\n",
      "Gemma's activation function will be set to `gelu_pytorch_tanh`. Please, use\n",
      "`config.hidden_activation` if you want to override this behaviour.\n",
      "See https://github.com/huggingface/transformers/pull/29402 for more details.\n",
      "Loading checkpoint shards: 100%|██████████| 2/2 [00:02<00:00,  1.15s/it]\n"
     ]
    }
   ],
   "source": [
    "model = AutoModelForCausalLM.from_pretrained(BASE_MODEL, quantization_config=bnb_config)\n",
    "# model = get_peft_model(model, lora_config) (https://www.youtube.com/watch?v=McTuvQCXbRY)\n",
    "# device_map={\"\":0} 0 번째 GPU를 지정한다는 뜻\n",
    "tokenizer = AutoTokenizer.from_pretrained(BASE_MODEL)\n",
    "# 직접 eos토큰을 넣어주지 않는다면 add_eos_token=True 를 추가할 수 있을 것 같다.\n",
    "tokenizer.padding_side = 'right'\n",
    "# tokenizer.pad_token = tokenizer.eos_token"
   ]
  },
  {
   "cell_type": "code",
   "execution_count": 11,
   "id": "8ad07e78-ad82-49ae-9ed7-795bd65f3268",
   "metadata": {},
   "outputs": [
    {
     "name": "stderr",
     "output_type": "stream",
     "text": [
      "/opt/conda/lib/python3.10/site-packages/huggingface_hub/utils/_deprecation.py:100: FutureWarning: Deprecated argument(s) used in '__init__': max_seq_length. Will not be supported from version '1.0.0'.\n",
      "\n",
      "Deprecated positional argument(s) used in SFTTrainer, please use the SFTConfig to set these arguments instead.\n",
      "  warnings.warn(message, FutureWarning)\n",
      "/opt/conda/lib/python3.10/site-packages/trl/trainer/sft_trainer.py:283: UserWarning: You passed a `max_seq_length` argument to the SFTTrainer, the value you passed will override the one in the `SFTConfig`.\n",
      "  warnings.warn(\n",
      "Map: 100%|██████████| 16489/16489 [00:09<00:00, 1825.84 examples/s]\n",
      "/opt/conda/lib/python3.10/site-packages/trl/trainer/sft_trainer.py:396: UserWarning: You passed a tokenizer with `padding_side` not equal to `right` to the SFTTrainer. This might lead to some unexpected behaviour due to overflow issues when training a model in half-precision. You might consider adding `tokenizer.padding_side = 'right'` to your code.\n",
      "  warnings.warn(\n",
      "Detected kernel version 5.4.0, which is below the recommended minimum of 5.5.0; this can cause the process to hang. It is recommended to upgrade the kernel to the minimum version or higher.\n"
     ]
    }
   ],
   "source": [
    "trainer = SFTTrainer(\n",
    "    model=model,\n",
    "    train_dataset=dataset,\n",
    "    max_seq_length=1024,\n",
    "    args=TrainingArguments(\n",
    "        output_dir=OUTPUT_DIR,\n",
    "        num_train_epochs=3,\n",
    "        max_steps=-1, # -1로 해야지 epoch수 만큼 돎\n",
    "        per_device_train_batch_size=2,\n",
    "        gradient_accumulation_steps=4,\n",
    "\n",
    "        optim=\"paged_adamw_8bit\",\n",
    "        warmup_ratio=0.03,\n",
    "        learning_rate=2e-4,\n",
    "        fp16=True,\n",
    "        logging_dir=\"./logs\",  # 로그를 저장할 경로\n",
    "        logging_steps=100,     # 로그를 기록할 스텝 간격\n",
    "        push_to_hub=False,\n",
    "        report_to='tensorboard',  # TensorBoard에 로그 기록\n",
    "    ),\n",
    "    peft_config=lora_config,\n",
    "    formatting_func=generate_raft_prompt,   # 알맞은 포맷(raft/dsf)으로 변환하는 함수\n",
    ")\n"
   ]
  },
  {
   "cell_type": "code",
   "execution_count": 12,
   "id": "f365316f-6916-4d3d-982e-9999e7ae1d06",
   "metadata": {},
   "outputs": [
    {
     "data": {
      "text/html": [
       "\n",
       "    <div>\n",
       "      \n",
       "      <progress value='1875' max='6183' style='width:300px; height:20px; vertical-align: middle;'></progress>\n",
       "      [1875/6183 1:27:22 < 3:20:57, 0.36 it/s, Epoch 0.91/3]\n",
       "    </div>\n",
       "    <table border=\"1\" class=\"dataframe\">\n",
       "  <thead>\n",
       " <tr style=\"text-align: left;\">\n",
       "      <th>Step</th>\n",
       "      <th>Training Loss</th>\n",
       "    </tr>\n",
       "  </thead>\n",
       "  <tbody>\n",
       "    <tr>\n",
       "      <td>100</td>\n",
       "      <td>1.765000</td>\n",
       "    </tr>\n",
       "    <tr>\n",
       "      <td>200</td>\n",
       "      <td>1.182900</td>\n",
       "    </tr>\n",
       "    <tr>\n",
       "      <td>300</td>\n",
       "      <td>1.058500</td>\n",
       "    </tr>\n",
       "    <tr>\n",
       "      <td>400</td>\n",
       "      <td>0.968500</td>\n",
       "    </tr>\n",
       "    <tr>\n",
       "      <td>500</td>\n",
       "      <td>0.895800</td>\n",
       "    </tr>\n",
       "    <tr>\n",
       "      <td>600</td>\n",
       "      <td>0.836800</td>\n",
       "    </tr>\n",
       "    <tr>\n",
       "      <td>700</td>\n",
       "      <td>0.800800</td>\n",
       "    </tr>\n",
       "    <tr>\n",
       "      <td>800</td>\n",
       "      <td>0.759700</td>\n",
       "    </tr>\n",
       "    <tr>\n",
       "      <td>900</td>\n",
       "      <td>0.736500</td>\n",
       "    </tr>\n",
       "    <tr>\n",
       "      <td>1000</td>\n",
       "      <td>0.718000</td>\n",
       "    </tr>\n",
       "    <tr>\n",
       "      <td>1100</td>\n",
       "      <td>0.701500</td>\n",
       "    </tr>\n",
       "    <tr>\n",
       "      <td>1200</td>\n",
       "      <td>0.677500</td>\n",
       "    </tr>\n",
       "    <tr>\n",
       "      <td>1300</td>\n",
       "      <td>0.668400</td>\n",
       "    </tr>\n",
       "    <tr>\n",
       "      <td>1400</td>\n",
       "      <td>0.666800</td>\n",
       "    </tr>\n",
       "    <tr>\n",
       "      <td>1500</td>\n",
       "      <td>0.626600</td>\n",
       "    </tr>\n",
       "    <tr>\n",
       "      <td>1600</td>\n",
       "      <td>0.638400</td>\n",
       "    </tr>\n",
       "    <tr>\n",
       "      <td>1700</td>\n",
       "      <td>0.634500</td>\n",
       "    </tr>\n",
       "    <tr>\n",
       "      <td>1800</td>\n",
       "      <td>0.626400</td>\n",
       "    </tr>\n",
       "  </tbody>\n",
       "</table><p>"
      ],
      "text/plain": [
       "<IPython.core.display.HTML object>"
      ]
     },
     "metadata": {},
     "output_type": "display_data"
    }
   ],
   "source": [
    "#학습\n",
    "trainer.train()"
   ]
  },
  {
   "cell_type": "markdown",
   "id": "5aebda84",
   "metadata": {},
   "source": [
    "# 파인튜닝 모델 저장"
   ]
  },
  {
   "cell_type": "code",
   "execution_count": 16,
   "id": "811e7c43-6560-4429-88a9-d40ad4d10927",
   "metadata": {},
   "outputs": [
    {
     "data": {
      "application/vnd.jupyter.widget-view+json": {
       "model_id": "18189948541941818b51798c6eb2306b",
       "version_major": 2,
       "version_minor": 0
      },
      "text/plain": [
       "Loading checkpoint shards:   0%|          | 0/2 [00:00<?, ?it/s]"
      ]
     },
     "metadata": {},
     "output_type": "display_data"
    },
    {
     "name": "stderr",
     "output_type": "stream",
     "text": [
      "Some parameters are on the meta device because they were offloaded to the cpu.\n",
      "/usr/local/lib/python3.10/dist-packages/transformers/modeling_utils.py:2633: UserWarning: Attempting to save a model with offloaded modules. Ensure that unallocated cpu memory exceeds the `shard_size` (5GB default)\n",
      "  warnings.warn(\n"
     ]
    },
    {
     "data": {
      "application/vnd.jupyter.widget-view+json": {
       "model_id": "132daa6a2a7c4c11be77c35a9c2492c9",
       "version_major": 2,
       "version_minor": 0
      },
      "text/plain": [
       "Saving checkpoint shards:   0%|          | 0/2 [00:00<?, ?it/s]"
      ]
     },
     "metadata": {},
     "output_type": "display_data"
    }
   ],
   "source": [
    "trainer.model.save_pretrained(ADAPTER_MODEL)\n",
    "\n",
    "base_model = AutoModelForCausalLM.from_pretrained(BASE_MODEL, device_map='auto', torch_dtype=torch.float16)\n",
    "model = PeftModel.from_pretrained(base_model, ADAPTER_MODEL, device_map='auto', torch_dtype=torch.float16)\n",
    "\n",
    "model = model.merge_and_unload()\n",
    "model.save_pretrained(FINETUNE_MODEL)\n",
    "tokenizer.save_pretrained(FINETUNE_MODEL)"
   ]
  },
  {
   "cell_type": "markdown",
   "id": "1b89dfda",
   "metadata": {},
   "source": [
    "# Training Loss 값 확인해보기"
   ]
  },
  {
   "cell_type": "code",
   "execution_count": 30,
   "id": "fb590dfe-152e-43df-84da-1c50eab007b6",
   "metadata": {},
   "outputs": [
    {
     "name": "stdout",
     "output_type": "stream",
     "text": [
      "['train/loss', 'train/grad_norm', 'train/learning_rate', 'train/epoch', 'train/train_runtime', 'train/train_samples_per_second', 'train/train_steps_per_second', 'train/total_flos', 'train/train_loss']\n"
     ]
    }
   ],
   "source": [
    "from tensorboard.backend.event_processing.event_accumulator import EventAccumulator\n",
    "\n",
    "# 이벤트 파일 경로 <- log파일 경로 수정해야함\n",
    "event_file = 'logs/events.out.tfevents.1726803839.gemma222-76bb7c847b-998pd.5956.0'\n",
    "\n",
    "# 이벤트 파일 읽기\n",
    "event_acc = EventAccumulator(event_file)\n",
    "event_acc.Reload()\n",
    "\n",
    "# 기록된 스칼라 태그 확인\n",
    "print(event_acc.Tags()['scalars'])"
   ]
  },
  {
   "cell_type": "code",
   "execution_count": 32,
   "id": "fdea4d2d-84a1-4c4b-836b-d56d95661bc8",
   "metadata": {},
   "outputs": [
    {
     "data": {
      "image/png": "[encoded data removed]",
      "text/plain": [
       "<Figure size 640x480 with 1 Axes>"
      ]
     },
     "metadata": {},
     "output_type": "display_data"
    }
   ],
   "source": [
    "import matplotlib.pyplot as plt\n",
    "\n",
    "# 손실 값 저장할 리스트\n",
    "loss_values = []\n",
    "\n",
    "# 'train/loss' 값 추출\n",
    "if 'train/loss' in event_acc.Tags()['scalars']:\n",
    "    loss_events = event_acc.Scalars('train/loss')\n",
    "    for event in loss_events:\n",
    "        loss_values.append(event.value)\n",
    "\n",
    "# 손실 값 그래프 그리기\n",
    "plt.plot(loss_values)\n",
    "plt.xlabel('Steps')\n",
    "plt.ylabel('Loss')\n",
    "plt.title('Training Loss Over Time')\n",
    "plt.show()"
   ]
  }
 ],
 "metadata": {
  "kernelspec": {
   "display_name": "Python 3 (ipykernel)",
   "language": "python",
   "name": "python3"
  },
  "language_info": {
   "codemirror_mode": {
    "name": "ipython",
    "version": 3
   },
   "file_extension": ".py",
   "mimetype": "text/x-python",
   "name": "python",
   "nbconvert_exporter": "python",
   "pygments_lexer": "ipython3",
   "version": "3.10.13"
  }
 },
 "nbformat": 4,
 "nbformat_minor": 5
}
