{
 "cells": [
  {
   "cell_type": "markdown",
   "metadata": {},
   "source": [
    "# RAG langchain"
   ]
  },
  {
   "cell_type": "code",
   "execution_count": 1,
   "metadata": {},
   "outputs": [
    {
     "name": "stderr",
     "output_type": "stream",
     "text": [
      "2024-09-15 11:43:52.934659: E tensorflow/compiler/xla/stream_executor/cuda/cuda_dnn.cc:9342] Unable to register cuDNN factory: Attempting to register factory for plugin cuDNN when one has already been registered\n",
      "2024-09-15 11:43:52.934712: E tensorflow/compiler/xla/stream_executor/cuda/cuda_fft.cc:609] Unable to register cuFFT factory: Attempting to register factory for plugin cuFFT when one has already been registered\n",
      "2024-09-15 11:43:52.934755: E tensorflow/compiler/xla/stream_executor/cuda/cuda_blas.cc:1518] Unable to register cuBLAS factory: Attempting to register factory for plugin cuBLAS when one has already been registered\n",
      "2024-09-15 11:43:52.943191: I tensorflow/core/platform/cpu_feature_guard.cc:182] This TensorFlow binary is optimized to use available CPU instructions in performance-critical operations.\n",
      "To enable the following instructions: AVX2 FMA, in other operations, rebuild TensorFlow with the appropriate compiler flags.\n",
      "2024-09-15 11:43:53.715960: W tensorflow/compiler/tf2tensorrt/utils/py_utils.cc:38] TF-TRT Warning: Could not find TensorRT\n"
     ]
    }
   ],
   "source": [
    "from typing import List\n",
    "from langchain_core.callbacks import CallbackManagerForRetrieverRun\n",
    "from langchain_core.retrievers import BaseRetriever\n",
    "\n",
    "from FlagEmbedding import BGEM3FlagModel\n",
    "from pinecone import Pinecone, Index\n",
    "\n",
    "from langchain_core.prompts import PromptTemplate\n",
    "\n",
    "import torch\n",
    "from transformers import pipeline, AutoTokenizer, AutoModelForCausalLM, TextStreamer\n",
    "from langchain_huggingface import HuggingFacePipeline\n",
    "\n",
    "from langchain_core.runnables import RunnablePassthrough\n",
    "from langchain_core.output_parsers import StrOutputParser"
   ]
  },
  {
   "cell_type": "code",
   "execution_count": 6,
   "metadata": {},
   "outputs": [
    {
     "data": {
      "text/plain": [
       "True"
      ]
     },
     "execution_count": 6,
     "metadata": {},
     "output_type": "execute_result"
    }
   ],
   "source": [
    "from dotenv import load_dotenv\n",
    "import os\n",
    "\n",
    "load_dotenv(\"../.env\")"
   ]
  },
  {
   "cell_type": "code",
   "execution_count": 7,
   "metadata": {},
   "outputs": [],
   "source": [
    "class HybridSearchRetriever(BaseRetriever):\n",
    "\n",
    "    pinecone_index:Index\n",
    "    embedding_model:BGEM3FlagModel\n",
    "    alpha:float\n",
    "    top_k: int\n",
    "    min_score:float\n",
    "\n",
    "    def _get_relevant_documents(\n",
    "        self, query: str, *, run_manager: CallbackManagerForRetrieverRun\n",
    "    ) -> List[str]:\n",
    "        \"\"\"Sync implementations for retriever.\"\"\"\n",
    "        user_query_emb = self.embedding_model.encode(query, return_dense=True, return_sparse=True, return_colbert_vecs=False) #dense, sparse 둘 다 반환함\n",
    "        \n",
    "        query_dense_vector = user_query_emb['dense_vecs'].tolist()\n",
    "        user_query_sparse = user_query_emb['lexical_weights']\n",
    "        query_sparse_vector = {\n",
    "            'indices': [int(k) for k in user_query_sparse.keys() if k.isdigit()], #isdigit() 안하면 에러뜨더라\n",
    "            'values': [float(v) for k, v in user_query_sparse.items() if k.isdigit()]\n",
    "        }\n",
    "\n",
    "        hdense, hsparse = self._hybrid_score_norm(query_dense_vector, query_sparse_vector, alpha=self.alpha)\n",
    "\n",
    "        hybrid_query_response = self.pinecone_index.query(\n",
    "            top_k=self.top_k,\n",
    "            vector=hdense,\n",
    "            sparse_vector=hsparse,\n",
    "            include_metadata=True,\n",
    "        )\n",
    "        \n",
    "        documents = [\n",
    "            f\"{match['metadata']['answer_intro']}\\n\"\n",
    "            f\"{match['metadata']['answer_body']}\\n\"\n",
    "            f\"{match['metadata']['answer_conclusion']}\"\n",
    "            for match in hybrid_query_response['matches']\n",
    "            if match['score'] >= self.min_score\n",
    "        ]\n",
    "        return documents\n",
    "    \n",
    "    def _hybrid_score_norm(self, dense, sparse, alpha: float):\n",
    "        \"\"\"Hybrid score using a convex combination\n",
    "\n",
    "        alpha * dense + (1 - alpha) * sparse\n",
    "\n",
    "        Args:\n",
    "            dense: Array of floats representing\n",
    "            sparse: a dict of `indices` and `values`\n",
    "            alpha: scale between 0 and 1\n",
    "        \"\"\"\n",
    "        if alpha < 0 or alpha > 1:\n",
    "            raise ValueError(\"Alpha must be between 0 and 1\")\n",
    "        hs = {\n",
    "            'indices': sparse['indices'],\n",
    "            'values':  [v * (1 - alpha) for v in sparse['values']]\n",
    "        }\n",
    "        return [v * alpha for v in dense], hs"
   ]
  },
  {
   "cell_type": "code",
   "execution_count": 8,
   "metadata": {},
   "outputs": [
    {
     "data": {
      "application/vnd.jupyter.widget-view+json": {
       "model_id": "8939afb70e8546b59e85399ea6c9b761",
       "version_major": 2,
       "version_minor": 0
      },
      "text/plain": [
       "Fetching 30 files:   0%|          | 0/30 [00:00<?, ?it/s]"
      ]
     },
     "metadata": {},
     "output_type": "display_data"
    },
    {
     "name": "stderr",
     "output_type": "stream",
     "text": [
      "/usr/local/lib/python3.10/dist-packages/FlagEmbedding/BGE_M3/modeling.py:335: FutureWarning: You are using `torch.load` with `weights_only=False` (the current default value), which uses the default pickle module implicitly. It is possible to construct malicious pickle data which will execute arbitrary code during unpickling (See https://github.com/pytorch/pytorch/blob/main/SECURITY.md#untrusted-models for more details). In a future release, the default value for `weights_only` will be flipped to `True`. This limits the functions that could be executed during unpickling. Arbitrary objects will no longer be allowed to be loaded via this mode unless they are explicitly allowlisted by the user via `torch.serialization.add_safe_globals`. We recommend you start setting `weights_only=True` for any use case where you don't have full control of the loaded file. Please open an issue on GitHub for any issues related to this experimental feature.\n",
      "  colbert_state_dict = torch.load(os.path.join(model_dir, 'colbert_linear.pt'), map_location='cpu')\n",
      "/usr/local/lib/python3.10/dist-packages/FlagEmbedding/BGE_M3/modeling.py:336: FutureWarning: You are using `torch.load` with `weights_only=False` (the current default value), which uses the default pickle module implicitly. It is possible to construct malicious pickle data which will execute arbitrary code during unpickling (See https://github.com/pytorch/pytorch/blob/main/SECURITY.md#untrusted-models for more details). In a future release, the default value for `weights_only` will be flipped to `True`. This limits the functions that could be executed during unpickling. Arbitrary objects will no longer be allowed to be loaded via this mode unless they are explicitly allowlisted by the user via `torch.serialization.add_safe_globals`. We recommend you start setting `weights_only=True` for any use case where you don't have full control of the loaded file. Please open an issue on GitHub for any issues related to this experimental feature.\n",
      "  sparse_state_dict = torch.load(os.path.join(model_dir, 'sparse_linear.pt'), map_location='cpu')\n"
     ]
    }
   ],
   "source": [
    "# Connect to the existing Pinecone index\n",
    "pc = Pinecone(api_key=os.getenv(\"PINECONE_API_KEY\"))\n",
    "pinecone_index = pc.Index(\"health-care\")\n",
    "\n",
    "embedding_model = BGEM3FlagModel('BAAI/bge-m3',use_fp16=True) # Setting use_fp16 to True speeds up computation with a slight performance degradation"
   ]
  },
  {
   "cell_type": "code",
   "execution_count": 9,
   "metadata": {},
   "outputs": [],
   "source": [
    "retriever = HybridSearchRetriever(\n",
    "        pinecone_index=pinecone_index,\n",
    "        embedding_model=embedding_model,\n",
    "        alpha=0.95,\n",
    "        top_k=3,\n",
    "        min_score=0.55,\n",
    "    )"
   ]
  },
  {
   "cell_type": "code",
   "execution_count": 16,
   "metadata": {},
   "outputs": [],
   "source": [
    "def hybrid_score_norm(dense, sparse, alpha: float):\n",
    "    \"\"\"Hybrid score using a convex combination\n",
    "\n",
    "    alpha * dense + (1 - alpha) * sparse\n",
    "\n",
    "    Args:\n",
    "        dense: Array of floats representing\n",
    "        sparse: a dict of `indices` and `values`\n",
    "        alpha: scale between 0 and 1\n",
    "    \"\"\"\n",
    "    if alpha < 0 or alpha > 1:\n",
    "        raise ValueError(\"Alpha must be between 0 and 1\")\n",
    "    hs = {\n",
    "        'indices': sparse['indices'],\n",
    "        'values':  [v * (1 - alpha) for v in sparse['values']]\n",
    "    }\n",
    "    return [v * alpha for v in dense], hs\n",
    "\n",
    "def test(query):\n",
    "    user_query_emb = embedding_model.encode(query, return_dense=True, return_sparse=True, return_colbert_vecs=False) #dense, sparse 둘 다 반환함\n",
    "            \n",
    "    query_dense_vector = user_query_emb['dense_vecs'].tolist()\n",
    "    user_query_sparse = user_query_emb['lexical_weights']\n",
    "    query_sparse_vector = {\n",
    "        'indices': [int(k) for k in user_query_sparse.keys() if k.isdigit()], #isdigit() 안하면 에러뜨더라\n",
    "        'values': [float(v) for k, v in user_query_sparse.items() if k.isdigit()]\n",
    "    }\n",
    "\n",
    "    hdense, hsparse = hybrid_score_norm(query_dense_vector, query_sparse_vector, alpha=0.95)\n",
    "\n",
    "    hybrid_query_response = pinecone_index.query(\n",
    "        top_k=3,\n",
    "        vector=hdense,\n",
    "        sparse_vector=hsparse,\n",
    "        include_metadata=True,\n",
    "    )\n",
    "    print(hybrid_query_response)"
   ]
  },
  {
   "cell_type": "code",
   "execution_count": 21,
   "metadata": {},
   "outputs": [
    {
     "name": "stdout",
     "output_type": "stream",
     "text": [
      "{'matches': [{'id': 'HC-A-02104685',\n",
      "              'metadata': {'answer_body': '이 질환의 초기 증상은 주로 추위나 스트레스 상황에서 손가락이나 '\n",
      "                                          '발가락이 창백해지고 감각이 둔화되는 것입니다. 이러한 증상은 '\n",
      "                                          '일시적으로 발생하며, 전신성 경화증이 동반된 경우 더욱 '\n",
      "                                          '심해집니다. 레이노현상은 따뜻한 환경에서 더욱 심해질 수 '\n",
      "                                          '있으므로 환우회나 의사를 방문하여 검사를 받는 것이 좋습니다.',\n",
      "                           'answer_conclusion': '손발이 차고 수족냉증이 있는 경우 레이노증후군 '\n",
      "                                                '가능성이 있으므로 의심 증상이 있다면 반드시 검사를 '\n",
      "                                                '받아 적절한 치료를 받아야 합니다.',\n",
      "                           'answer_intro': '레이노증후군은 혈관 반응 장애로 인해 손가락이나 발가락에서 '\n",
      "                                           '창백하거나 비정상적인 혈관의 수축 증상이 나타나는 질환입니다.',\n",
      "                           'department': '내과',\n",
      "                           'disease_category': '뇌신경정신질환',\n",
      "                           'disease_name_kor': '레이노병',\n",
      "                           'intention': '정의',\n",
      "                           'question': '레이노증후군은 무엇인가요?'},\n",
      "              'score': 0.420072615,\n",
      "              'values': []},\n",
      "             {'id': 'HC-A-02029184',\n",
      "              'metadata': {'answer_body': '레이노증후군은 주로 일시적인 증상으로 나타나며, 따뜻한 실내에 '\n",
      "                                          '있을 때 일시적으로 증상이 개선될 수 있습니다. 그러나 추운 '\n",
      "                                          '장소에서는 증상이 악화될 수 있습니다. 손발이 저리고 시리게 '\n",
      "                                          '되며, 혈관의 수축이 증가하는 것이 가장 일반적인 증상입니다. '\n",
      "                                          '증상은 따뜻한 환경에 있으면 개선되지만, 추운 장소에 있을 때 '\n",
      "                                          '손발을 따뜻하게 유지하는 것이 좋습니다.',\n",
      "                           'answer_conclusion': '레이노증후군은 주로 추위에 노출되거나 스트레스 상황에 '\n",
      "                                                '노출될 때 증상이 악화될 수 있습니다. 따뜻한 환경에 '\n",
      "                                                '있으면 증상이 완화될 수 있으며, 추운 장소에 있을 '\n",
      "                                                '때 손발을 따뜻하게 유지하는 것이 증상을 완화시키는 '\n",
      "                                                '데 도움이 됩니다.',\n",
      "                           'answer_intro': '레이노증후군은 손발이 차거나 저림과 같은 증상이 가장 일반적인 '\n",
      "                                           '증상으로 나타나는 질환입니다. 추위에 노출되거나 스트레스 '\n",
      "                                           '상황에 노출되면 증상이 더욱 심해질 수 있으며, 심각한 '\n",
      "                                           '경우에는 손발이 위축되어 환자 스스로는 잘 느끼지 못할 수 '\n",
      "                                           '있습니다.',\n",
      "                           'department': '내과',\n",
      "                           'disease_category': '뇌신경정신질환',\n",
      "                           'disease_name_kor': '레이노병',\n",
      "                           'intention': '정의',\n",
      "                           'question': '레이노증후군의 증상은 무엇인가요?'},\n",
      "              'score': 0.41374737,\n",
      "              'values': []},\n",
      "             {'id': 'HC-A-02193658',\n",
      "              'metadata': {'answer_body': '레이노현상은 손가락이나 발가락 등 손가락, 발가락, 발 부위의 '\n",
      "                                          '피부 및 혈관이 과도한 추위에 노출되거나 스트레스에 노출될 때 '\n",
      "                                          '발생할 수 있습니다. 이로 인해 피부가 하얗게 변하고, 혈관이 '\n",
      "                                          '수축하여 혈액의 공급이 제한됩니다. 추위로 인해 손이나 발가락 '\n",
      "                                          '등이 감각이 둔해지고 혈액이 원활히 흐르지 않게 되며, '\n",
      "                                          '손가락이나 발가락이 창백한 색으로 변하거나 통증을 유발할 수 '\n",
      "                                          '있습니다. 또한, 추위에 노출되거나 스트레스를 받는 상황에서는 '\n",
      "                                          '손가락이나 발가락 혈관이 경련과 염증을 일으켜 궤양이 생길 수도 '\n",
      "                                          '있습니다.',\n",
      "                           'answer_conclusion': '레이노증후군은 손가락, 발가락, 발 부위의 피부 및 '\n",
      "                                                '혈관에 대한 증상을 동반합니다. 추위에 노출되는 '\n",
      "                                                '상황에서는 손이나 발가락이 창백해지거나 통증이 발생할 '\n",
      "                                                '수 있으며, 손가락이나 발가락 혈관이 경련과 염증을 '\n",
      "                                                '일으킬 수도 있습니다. 따라서, 이러한 증상을 '\n",
      "                                                '경험한다면 의사와 상담하여 적절한 진단을 받아야 '\n",
      "                                                '합니다.',\n",
      "                           'answer_intro': '레이노증후군은 손가락이나 발가락의 혈관이 추위나 감정적인 '\n",
      "                                           '스트레스에 예민하여 혈류가 감소하는 상태입니다.',\n",
      "                           'department': '내과',\n",
      "                           'disease_category': '뇌신경정신질환',\n",
      "                           'disease_name_kor': '레이노병',\n",
      "                           'intention': '정의',\n",
      "                           'question': '레이노증후군이란 무엇이며, 어떤 상황에서 발생할 수 있나요?'},\n",
      "              'score': 0.405026436,\n",
      "              'values': []}],\n",
      " 'namespace': '',\n",
      " 'usage': {'read_units': 15}}\n"
     ]
    }
   ],
   "source": [
    "test(\"아데노\")"
   ]
  },
  {
   "cell_type": "code",
   "execution_count": 10,
   "metadata": {},
   "outputs": [
    {
     "data": {
      "application/vnd.jupyter.widget-view+json": {
       "model_id": "1acbcd428ea447c1af9681ac33d79450",
       "version_major": 2,
       "version_minor": 0
      },
      "text/plain": [
       "Loading checkpoint shards:   0%|          | 0/2 [00:00<?, ?it/s]"
      ]
     },
     "metadata": {},
     "output_type": "display_data"
    }
   ],
   "source": [
    "model_id=\"google/gemma-2-2b-it\"\n",
    "\n",
    "gemma_2_model = AutoModelForCausalLM.from_pretrained(model_id)\n",
    "gemma_2_tokenizer = AutoTokenizer.from_pretrained(model_id)"
   ]
  },
  {
   "cell_type": "code",
   "execution_count": 11,
   "metadata": {},
   "outputs": [],
   "source": [
    "streamer = TextStreamer(gemma_2_tokenizer, skip_prompt=True, skip_special_tokens=True)\n",
    "\n",
    "gen = pipeline(\n",
    "    task='text-generation',\n",
    "    model=gemma_2_model,\n",
    "    tokenizer=gemma_2_tokenizer,\n",
    "    max_new_tokens=1024,\n",
    "    streamer=streamer,\n",
    "    device=0 if torch.cuda.is_available() else -1,\n",
    "    temperature=.5,\n",
    "    top_p=0.7,\n",
    "    repetition_penalty=1.1,\n",
    "    do_sample=True,\n",
    "    )\n",
    "\n",
    "llm = HuggingFacePipeline(pipeline=gen)"
   ]
  },
  {
   "cell_type": "code",
   "execution_count": 12,
   "metadata": {},
   "outputs": [
    {
     "data": {
      "text/plain": [
       "PromptTemplate(input_variables=['documents', 'question'], input_types={}, partial_variables={}, template=\"<bos><start_of_turn>user\\nInstructions:\\n- If the question involves a health-related issue, suggest possible causes and basic steps the user can take for relief, if applicable.\\n- You should explain in as much detail as possible what you know from the bottom of your heart to the user's questions.\\n- You can refer to the contents of the documents to create a response.\\n- Only use information that is directly related to the question.\\n- If no information is found in the documents, provide an answer based on general knowledge without fabricating details.\\n- You MUST answer in Korean.\\n\\n\\nDocuments: {documents}\\n\\nQuestion: {question}<end_of_turn>\\n<start_of_turn>model\\n\")"
      ]
     },
     "execution_count": 12,
     "metadata": {},
     "output_type": "execute_result"
    }
   ],
   "source": [
    "template = \"\"\"\n",
    "Instructions:\n",
    "- If the question involves a health-related issue, suggest possible causes and basic steps the user can take for relief, if applicable.\n",
    "- You should explain in as much detail as possible what you know from the bottom of your heart to the user's questions.\n",
    "- You can refer to the contents of the documents to create a response.\n",
    "- Only use information that is directly related to the question.\n",
    "- If no information is found in the documents, provide an answer based on general knowledge without fabricating details.\n",
    "- You MUST answer in Korean.\n",
    "\n",
    "\n",
    "Documents: {documents}\n",
    "\n",
    "Question: {question}\n",
    "\"\"\"\n",
    "\n",
    "prev_chat = []\n",
    "\n",
    "chat = [\n",
    "    *prev_chat,\n",
    "     { \"role\": \"user\", \"content\": template}\n",
    "]\n",
    "\n",
    "prompt_template = gemma_2_tokenizer.apply_chat_template(chat, tokenize=False, add_generation_prompt=True)\n",
    "\n",
    "prompt = PromptTemplate(input_variables=[\"question\", \"documents\"], template=prompt_template)\n",
    "prompt"
   ]
  },
  {
   "cell_type": "code",
   "execution_count": 13,
   "metadata": {},
   "outputs": [],
   "source": [
    "rag_chain = (\n",
    "    {\"documents\": retriever, \"question\": RunnablePassthrough()}\n",
    "    | prompt\n",
    "    | llm\n",
    "    | StrOutputParser()\n",
    ")"
   ]
  },
  {
   "cell_type": "code",
   "execution_count": 15,
   "metadata": {},
   "outputs": [
    {
     "name": "stdout",
     "output_type": "stream",
     "text": [
      "유행성 각막염(EKC)은 바이러스에 의해 발생하는 급성 유행성 전염병으로, **파라믹소 바이러스** 과에 속하는 RNA 바이러스입니다.  \n",
      "\n",
      "**임상적 증상**:\n",
      "\n",
      "* **발열:** 초기에는 발열이 나타날 수 있습니다.\n",
      "* **두통:** 두통이 나타날 수 있습니다.\n",
      "* **근육통:** 근육통이 나타날 수 있습니다.\n",
      "* **식욕 부진:** 식욕 부진이 나타날 수 있습니다.\n",
      "* **이하선 비대:** 이하선(귀 밑 샘)이 부어오르는 증상이 나타납니다.\n",
      "* **통증:** 이하선 부어오름과 함께 통증이 나타납니다.\n",
      "* **귀 밑 림프절 부종:** 귀 밑의 림프절이 부풀어 오르는 증상이 나타납니다.\n",
      "* **비충혈, 재채기, 기침, 발열, 부종 등:** 일부 환자에게 나타날 수 있습니다. \n",
      "\n",
      "\n",
      "\n",
      "참고: 위 내용은 제공된 문서에서 얻은 정보입니다. \n",
      "\n"
     ]
    }
   ],
   "source": [
    "answer = rag_chain.invoke(\"유행성 각결막염(EKC)의 주요 병원체와 임상적인 증상에 대해 설명해주세요.\")"
   ]
  },
  {
   "cell_type": "code",
   "execution_count": 101,
   "metadata": {},
   "outputs": [],
   "source": [
    "def stream_response(response, return_output=False):\n",
    "    answer = \"\"\n",
    "    for token in response:\n",
    "        answer += token\n",
    "        print(token, end=\"\", flush=True)\n",
    "    if return_output:\n",
    "        return answer"
   ]
  },
  {
   "cell_type": "markdown",
   "metadata": {},
   "source": [
    "END."
   ]
  }
 ],
 "metadata": {
  "kernelspec": {
   "display_name": "Python 3",
   "language": "python",
   "name": "python3"
  },
  "language_info": {
   "codemirror_mode": {
    "name": "ipython",
    "version": 3
   },
   "file_extension": ".py",
   "mimetype": "text/x-python",
   "name": "python",
   "nbconvert_exporter": "python",
   "pygments_lexer": "ipython3",
   "version": "3.10.12"
  }
 },
 "nbformat": 4,
 "nbformat_minor": 2
}
