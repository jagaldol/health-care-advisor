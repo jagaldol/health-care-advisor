{
 "cells": [
  {
   "cell_type": "markdown",
   "metadata": {},
   "source": [
    "# RAG langchain"
   ]
  },
  {
   "cell_type": "code",
   "execution_count": 54,
   "metadata": {},
   "outputs": [],
   "source": [
    "from typing import List\n",
    "from langchain_core.callbacks import CallbackManagerForRetrieverRun\n",
    "from langchain_core.retrievers import BaseRetriever\n",
    "\n",
    "from FlagEmbedding import BGEM3FlagModel\n",
    "from pinecone import Pinecone, Index\n",
    "\n",
    "from langchain_core.prompts import PromptTemplate\n",
    "\n",
    "import torch\n",
    "from transformers import pipeline, AutoTokenizer, AutoModelForCausalLM, TextStreamer\n",
    "from langchain_huggingface import HuggingFacePipeline\n",
    "\n",
    "from langchain_core.runnables import RunnablePassthrough\n",
    "from langchain_core.output_parsers import StrOutputParser"
   ]
  },
  {
   "cell_type": "code",
   "execution_count": 2,
   "metadata": {},
   "outputs": [
    {
     "data": {
      "text/plain": [
       "True"
      ]
     },
     "execution_count": 2,
     "metadata": {},
     "output_type": "execute_result"
    }
   ],
   "source": [
    "from dotenv import load_dotenv\n",
    "import os\n",
    "\n",
    "load_dotenv(\"../\")"
   ]
  },
  {
   "cell_type": "code",
   "execution_count": 3,
   "metadata": {},
   "outputs": [],
   "source": [
    "class HybridSearchRetriever(BaseRetriever):\n",
    "\n",
    "    pinecone_index:Index\n",
    "    embedding_model:BGEM3FlagModel\n",
    "    alpha:float\n",
    "    top_k: int\n",
    "    min_score:float\n",
    "\n",
    "    def _get_relevant_documents(\n",
    "        self, query: str, *, run_manager: CallbackManagerForRetrieverRun\n",
    "    ) -> List[str]:\n",
    "        \"\"\"Sync implementations for retriever.\"\"\"\n",
    "        user_query_emb = self.embedding_model.encode(query, return_dense=True, return_sparse=True, return_colbert_vecs=False) #dense, sparse 둘 다 반환함\n",
    "        \n",
    "        query_dense_vector = user_query_emb['dense_vecs'].tolist()\n",
    "        user_query_sparse = user_query_emb['lexical_weights']\n",
    "        query_sparse_vector = {\n",
    "            'indices': [int(k) for k in user_query_sparse.keys() if k.isdigit()], #isdigit() 안하면 에러뜨더라\n",
    "            'values': [float(v) for k, v in user_query_sparse.items() if k.isdigit()]\n",
    "        }\n",
    "\n",
    "        hdense, hsparse = self._hybrid_score_norm(query_dense_vector, query_sparse_vector, alpha=self.alpha)\n",
    "\n",
    "        hybrid_query_response = self.pinecone_index.query(\n",
    "            top_k=self.top_k,\n",
    "            vector=hdense,\n",
    "            sparse_vector=hsparse,\n",
    "            include_metadata=True,\n",
    "        )\n",
    "        \n",
    "        documents = [\n",
    "            f\"{match['metadata']['answer_intro']}\\n\"\n",
    "            f\"{match['metadata']['answer_body']}\\n\"\n",
    "            f\"{match['metadata']['answer_conclusion']}\"\n",
    "            for match in hybrid_query_response['matches']\n",
    "            if match['score'] >= self.min_score\n",
    "        ]\n",
    "        return documents\n",
    "    \n",
    "    def _hybrid_score_norm(self, dense, sparse, alpha: float):\n",
    "        \"\"\"Hybrid score using a convex combination\n",
    "\n",
    "        alpha * dense + (1 - alpha) * sparse\n",
    "\n",
    "        Args:\n",
    "            dense: Array of floats representing\n",
    "            sparse: a dict of `indices` and `values`\n",
    "            alpha: scale between 0 and 1\n",
    "        \"\"\"\n",
    "        if alpha < 0 or alpha > 1:\n",
    "            raise ValueError(\"Alpha must be between 0 and 1\")\n",
    "        hs = {\n",
    "            'indices': sparse['indices'],\n",
    "            'values':  [v * (1 - alpha) for v in sparse['values']]\n",
    "        }\n",
    "        return [v * alpha for v in dense], hs"
   ]
  },
  {
   "cell_type": "code",
   "execution_count": 4,
   "metadata": {},
   "outputs": [
    {
     "data": {
      "application/vnd.jupyter.widget-view+json": {
       "model_id": "6a652345dd9748b5b1ae4abf4dd8a4a6",
       "version_major": 2,
       "version_minor": 0
      },
      "text/plain": [
       "Fetching 30 files:   0%|          | 0/30 [00:00<?, ?it/s]"
      ]
     },
     "metadata": {},
     "output_type": "display_data"
    },
    {
     "name": "stderr",
     "output_type": "stream",
     "text": [
      "/usr/local/lib/python3.10/dist-packages/FlagEmbedding/BGE_M3/modeling.py:335: FutureWarning: You are using `torch.load` with `weights_only=False` (the current default value), which uses the default pickle module implicitly. It is possible to construct malicious pickle data which will execute arbitrary code during unpickling (See https://github.com/pytorch/pytorch/blob/main/SECURITY.md#untrusted-models for more details). In a future release, the default value for `weights_only` will be flipped to `True`. This limits the functions that could be executed during unpickling. Arbitrary objects will no longer be allowed to be loaded via this mode unless they are explicitly allowlisted by the user via `torch.serialization.add_safe_globals`. We recommend you start setting `weights_only=True` for any use case where you don't have full control of the loaded file. Please open an issue on GitHub for any issues related to this experimental feature.\n",
      "  colbert_state_dict = torch.load(os.path.join(model_dir, 'colbert_linear.pt'), map_location='cpu')\n",
      "/usr/local/lib/python3.10/dist-packages/FlagEmbedding/BGE_M3/modeling.py:336: FutureWarning: You are using `torch.load` with `weights_only=False` (the current default value), which uses the default pickle module implicitly. It is possible to construct malicious pickle data which will execute arbitrary code during unpickling (See https://github.com/pytorch/pytorch/blob/main/SECURITY.md#untrusted-models for more details). In a future release, the default value for `weights_only` will be flipped to `True`. This limits the functions that could be executed during unpickling. Arbitrary objects will no longer be allowed to be loaded via this mode unless they are explicitly allowlisted by the user via `torch.serialization.add_safe_globals`. We recommend you start setting `weights_only=True` for any use case where you don't have full control of the loaded file. Please open an issue on GitHub for any issues related to this experimental feature.\n",
      "  sparse_state_dict = torch.load(os.path.join(model_dir, 'sparse_linear.pt'), map_location='cpu')\n"
     ]
    }
   ],
   "source": [
    "# Connect to the existing Pinecone index\n",
    "pc = Pinecone(api_key=os.getenv(\"PINECONE_API_KEY\"))\n",
    "pinecone_index = pc.Index(\"health-care\")\n",
    "\n",
    "embedding_model = BGEM3FlagModel('BAAI/bge-m3',use_fp16=True) # Setting use_fp16 to True speeds up computation with a slight performance degradation"
   ]
  },
  {
   "cell_type": "code",
   "execution_count": 5,
   "metadata": {},
   "outputs": [],
   "source": [
    "retriever = HybridSearchRetriever(\n",
    "        pinecone_index=pinecone_index,\n",
    "        embedding_model=embedding_model,\n",
    "        alpha=0.95,\n",
    "        top_k=3,\n",
    "        min_score=0.55,\n",
    "    )"
   ]
  },
  {
   "cell_type": "code",
   "execution_count": 6,
   "metadata": {},
   "outputs": [],
   "source": [
    "def hybrid_score_norm(dense, sparse, alpha: float):\n",
    "    \"\"\"Hybrid score using a convex combination\n",
    "\n",
    "    alpha * dense + (1 - alpha) * sparse\n",
    "\n",
    "    Args:\n",
    "        dense: Array of floats representing\n",
    "        sparse: a dict of `indices` and `values`\n",
    "        alpha: scale between 0 and 1\n",
    "    \"\"\"\n",
    "    if alpha < 0 or alpha > 1:\n",
    "        raise ValueError(\"Alpha must be between 0 and 1\")\n",
    "    hs = {\n",
    "        'indices': sparse['indices'],\n",
    "        'values':  [v * (1 - alpha) for v in sparse['values']]\n",
    "    }\n",
    "    return [v * alpha for v in dense], hs\n",
    "\n",
    "def test(query):\n",
    "    user_query_emb = embedding_model.encode(query, return_dense=True, return_sparse=True, return_colbert_vecs=False) #dense, sparse 둘 다 반환함\n",
    "            \n",
    "    query_dense_vector = user_query_emb['dense_vecs'].tolist()\n",
    "    user_query_sparse = user_query_emb['lexical_weights']\n",
    "    query_sparse_vector = {\n",
    "        'indices': [int(k) for k in user_query_sparse.keys() if k.isdigit()], #isdigit() 안하면 에러뜨더라\n",
    "        'values': [float(v) for k, v in user_query_sparse.items() if k.isdigit()]\n",
    "    }\n",
    "\n",
    "    hdense, hsparse = hybrid_score_norm(query_dense_vector, query_sparse_vector, alpha=0.95)\n",
    "\n",
    "    hybrid_query_response = pinecone_index.query(\n",
    "        top_k=10,\n",
    "        vector=hdense,\n",
    "        sparse_vector=hsparse,\n",
    "        include_metadata=True,\n",
    "    )\n",
    "    print(hybrid_query_response)"
   ]
  },
  {
   "cell_type": "code",
   "execution_count": 7,
   "metadata": {},
   "outputs": [
    {
     "name": "stdout",
     "output_type": "stream",
     "text": [
      "{'matches': [{'id': 'HC-A-03401038',\n",
      "              'metadata': {'answer_body': '에너지 섭취가 식사 속도보다 빠르게 증가하면 지방을 태우기 위해 '\n",
      "                                          '사용되는 연료인 포도당을 충분히 섭취하지 못하게 되어 지방 '\n",
      "                                          '축적이 증가합니다. 또한 식사 속도가 높으면 식사량을 유지하기 '\n",
      "                                          '위해 근육과 지방 조직 내에 있는 여분의 에너지도 더 많이 '\n",
      "                                          '저장됩니다. 이로 인해 에너지 필요량이 증가하고 에너지 소비량이 '\n",
      "                                          '감소하게 됩니다.',\n",
      "                           'answer_conclusion': '식사 속도와 식사량에 대한 관리는 비만 예방에 매우 '\n",
      "                                                '중요합니다. 식사 속도를 늦추고 천천히 음식을 '\n",
      "                                                '섭취하여 과도한 음식 섭취를 피하는 것이 좋습니다.',\n",
      "                           'answer_intro': '비만의 주요 원인 중 하나는 식사 속도와 식사량에 따라 '\n",
      "                                           '발생하는 과다한 음식 섭취입니다.',\n",
      "                           'department': '내과',\n",
      "                           'disease_category': '기타',\n",
      "                           'disease_name_kor': '비만',\n",
      "                           'intention': '원인',\n",
      "                           'question': '비만의 원인 중 하나는 식사 속도와 식사량에 따라 발생하는 과다한 '\n",
      "                                       '음식 섭취가 무엇인가요?'},\n",
      "              'score': 0.651900947,\n",
      "              'values': []},\n",
      "             {'id': 'HC-A-02905017',\n",
      "              'metadata': {'answer_body': '위궤양이나 십이지장 궤양, 역류성 식도염, 담도/담낭 질환, '\n",
      "                                          '췌장 질환 등의 복부 장기의 구조적 이상은 소화불량을 유발할 수 '\n",
      "                                          '있습니다. 이러한 이상이 소화 효소나 소화액의 분비를 방해하여 '\n",
      "                                          '소화불량을 일으킵니다. 또한, 위와 소장의 운동 기능이 '\n",
      "                                          '저하되거나 식후 위장의 제대로 이완되지 않음, 내장의 과민한 '\n",
      "                                          '반응, 헬리코박터 파일로리균에 감염된 경우에도 소화불량이 발생할 '\n",
      "                                          '수 있습니다.',\n",
      "                           'answer_conclusion': '따라서, 위와 소장의 구조적 이상, 운동 기능 저하, '\n",
      "                                                '식후 위장의 제대로 이완되지 못함, 내장의 과민한 '\n",
      "                                                '반응, 헬리코박터 파일로리균에 감염된 경우 소화불량이 '\n",
      "                                                '발생할 수 있으므로 이러한 조건들을 주의해야 합니다.',\n",
      "                           'answer_intro': '식사 후 소화불량이 발생하는 이유는 다양합니다.',\n",
      "                           'department': '내과',\n",
      "                           'disease_category': '소화기질환',\n",
      "                           'disease_name_kor': '소화불량',\n",
      "                           'intention': '원인',\n",
      "                           'question': '식사 후 소화불량이 발생하는 이유는 무엇일까요?'},\n",
      "              'score': 0.649817348,\n",
      "              'values': []},\n",
      "             {'id': 'HC-A-03401148',\n",
      "              'metadata': {'answer_body': '빠르게 식사하는 것은 과식을 유발하여 비만의 위험을 증가시킬 수 '\n",
      "                                          '있습니다. 과식은 체내에서 음식을 소화시키기 위해 많은 양의 '\n",
      "                                          '에너지를 소비하고 에너지 소비가 적은 행동으로 이어지는 '\n",
      "                                          '결과입니다. 또한, 식사 후 빠른 섭취는 위장의 포만감을 '\n",
      "                                          '느끼기까지의 시간을 늘리는 것으로, 이는 식욕을 더욱 자극하여 '\n",
      "                                          '과식을 유도합니다.',\n",
      "                           'answer_conclusion': '과도한 포만감은 비만의 중요한 원인 중 하나입니다. '\n",
      "                                                '이러한 상태가 지속되면 비만과 관련된 건강 문제가 '\n",
      "                                                '발생할 수 있습니다. 따라서, 과도한 포만감을 '\n",
      "                                                '유발하는 식사를 피하고, 식사 시간을 일정하게 '\n",
      "                                                '유지하여 건강한 체중 관리를 할 수 있도록 노력해야 '\n",
      "                                                '합니다.',\n",
      "                           'answer_intro': '과도한 포만감은 비만의 중요한 원인 중 하나입니다.',\n",
      "                           'department': '내과',\n",
      "                           'disease_category': '기타',\n",
      "                           'disease_name_kor': '비만',\n",
      "                           'intention': '원인',\n",
      "                           'question': '과도한 포만감은 비만의 원인이 되는데, 빠르게 식사하는 것은 과식을 '\n",
      "                                       '유발하는데 어떤 영향을 미치는가?'},\n",
      "              'score': 0.645312607,\n",
      "              'values': []},\n",
      "             {'id': 'HC-A-02906345',\n",
      "              'metadata': {'answer_body': '식사 후 소화불량은 주로 위운동 촉진제, 산분비 억제제, '\n",
      "                                          '헬리코박터 파일로리 제균, 그리고 항우울제 등의 약물이나 식후 '\n",
      "                                          '운동, 스트레스와 같은 요인들에 의해 발생할 수 있습니다. '\n",
      "                                          '이러한 약물들은 소화 과정에 악영향을 미치며, 소화불량의 원인이 '\n",
      "                                          '될 수 있습니다. 위운동 촉진제는 위산 분비를 억제하여 소화 '\n",
      "                                          '작용을 촉진시키는 역할을 합니다. 하지만 이러한 약물들은 식사 '\n",
      "                                          '전에 복용하는 것이 좋습니다. 산분비 억제제는 위산의 분비를 '\n",
      "                                          '억제하여 소화 속도를 낮추는 효과가 있습니다. 하지만 약물 '\n",
      "                                          '치료는 식사 후에 복용하는 것이 권장되며, 식전에 복용하는 '\n",
      "                                          '경우에는 약물의 효과를 약화시킬 수 있습니다. 그리고, '\n",
      "                                          '헬리코박터 파일로리 제균은 위산과 소화효소의 작용을 억제하여 '\n",
      "                                          '소화불량을 유발할 수 있는 약물입니다. 이 경우, 위 내시경 '\n",
      "                                          '검사를 받은 후 약물을 복용하여 치료해야 합니다. 마지막으로, '\n",
      "                                          '항우울제는 우울증과 관련된 장애를 치료하기 위해 사용되는 경우가 '\n",
      "                                          '많으며, 식사 전에 복용할 경우 소화불량 증상이 완화될 수 '\n",
      "                                          '있습니다.',\n",
      "                           'answer_conclusion': '정확한 약물 치료와 생활습관 개선은 소화불량을 '\n",
      "                                                '치료하는 데 큰 도움이 됩니다. 또한, 약물 복용 '\n",
      "                                                '전에 전문의와의 상담이 필요하며, 식사 후 30분 '\n",
      "                                                '이상의 휴식을 취하고, 식후 적어도 2~3시간 동안은 '\n",
      "                                                '수분 섭취를 제한하는 것이 좋습니다.',\n",
      "                           'answer_intro': '식사 후 소화불량은 어떤 원인으로 인해 발생할까요?',\n",
      "                           'department': '내과',\n",
      "                           'disease_category': '소화기질환',\n",
      "                           'disease_name_kor': '소화불량',\n",
      "                           'intention': '치료',\n",
      "                           'question': '식사 후 소화불량의 원인은 무엇일까요?'},\n",
      "              'score': 0.643096149,\n",
      "              'values': []},\n",
      "             {'id': 'HC-A-05457802',\n",
      "              'metadata': {'answer_body': '위경련은 식후에 발생하는 심한 식은땀과 함께 명치끝을 쥐는 듯한 '\n",
      "                                          '증상이 나타나며, 얼굴이 창백해지고 식은땀을 흘립니다. 위경련은 '\n",
      "                                          '위염, 십이지장 궤양, 위염, 소화성 궤양, 위암, 그리고 '\n",
      "                                          '역류성 식도염 등과 연관될 수 있습니다. 또한 신경성 위염이나 '\n",
      "                                          '장상피화생과도 관련되어 있습니다. 위경련은 긴장성 두통이나 '\n",
      "                                          '스트레스와 관련된 증상도 일으킬 수 있습니다.',\n",
      "                           'answer_conclusion': '식후에 나타나는 식은땀은 식후에 나타나는 증상의 '\n",
      "                                                '일부로, 위경련이 의심되는 경우 전문의의 진찰과 '\n",
      "                                                '검사를 받아야 합니다. 위경련 증상을 완화시키기 '\n",
      "                                                '위해서는 식이조절과 스트레스 관리가 중요하며, 증상이 '\n",
      "                                                '반복되는 경우 전문의와 상담하는 것이 좋습니다.',\n",
      "                           'answer_intro': '식후에 나타나는 극심한 식은땀은 식후에 발생하는 증상으로 '\n",
      "                                           '알려져 있으며, 위경련의 일부 증상입니다.',\n",
      "                           'department': '가정의학과',\n",
      "                           'disease_category': '소화기질환',\n",
      "                           'disease_name_kor': '위경련',\n",
      "                           'intention': '정의',\n",
      "                           'question': '식후에 나타나는 극심한 식은땀이 무슨 질문을 던질 수 있나요?'},\n",
      "              'score': 0.640769422,\n",
      "              'values': []},\n",
      "             {'id': 'HC-A-02903236',\n",
      "              'metadata': {'answer_body': '식후 소화불량은 음식이 소화되지 않아 가스가 쌓이고 배에 '\n",
      "                                          '포만감을 느끼게 합니다. 소화 불량은 주로 복부 부풀림, 빠른 '\n",
      "                                          '속도로 포만감을 느끼는 현상, 식사 후 가슴이 불편한 등의 '\n",
      "                                          '증상을 포함할 수 있습니다. 이러한 증상들은 식후 복부 불편과 '\n",
      "                                          '함께 나타날 수 있으며, 증상의 정도는 다양할 수 있습니다.',\n",
      "                           'answer_conclusion': '소화불량은 소화 효소 결핍, 위장 장애, 신경성 '\n",
      "                                                '질환, 약물 복용 등 다양한 이유로 발생할 수 '\n",
      "                                                '있습니다. 만약 소화불량 증상이 지속되거나 '\n",
      "                                                '심해진다면, 의사와 상담하여 원인을 확인하고 적절한 '\n",
      "                                                '치료를 받아야 합니다.',\n",
      "                           'answer_intro': '소화불량은 다양한 원인으로 인해 발생할 수 있는 증상이 '\n",
      "                                           '있습니다.',\n",
      "                           'department': '내과',\n",
      "                           'disease_category': '소화기질환',\n",
      "                           'disease_name_kor': '소화불량',\n",
      "                           'intention': '증상',\n",
      "                           'question': '소화불량이 발생할 때, 식후 소화불량이 나타나는 원인은 무엇일까요?'},\n",
      "              'score': 0.638005555,\n",
      "              'values': []},\n",
      "             {'id': 'HC-A-03389852',\n",
      "              'metadata': {'answer_body': '비만의 원인 중 하나는 과다한 음식 섭취이다. 고지방 음식은 '\n",
      "                                          '체중 증가를 촉진시키는 원인 중 하나로 알려져 있다. 또한, '\n",
      "                                          '고칼로리 음식은 비만 위험을 높일 수 있다. 과다한 당질 섭취도 '\n",
      "                                          '비만을 초래할 수 있는데, 당질은 체내에서 소비되지 않고 '\n",
      "                                          '지방세포로 전환되어 체지방을 증가시키는 역할을 한다. 또한, '\n",
      "                                          '고지방 식품은 지방과 칼로리가 높아 비만 위험을 증가시킨다.',\n",
      "                           'answer_conclusion': '따라서 비만 예방을 위해 식습관에 주의를 기울여야 '\n",
      "                                                '한다. 올바른 식단을 유지하고 건강한 식습관을 '\n",
      "                                                '유지하는 것이 중요하다.',\n",
      "                           'answer_intro': '비만은 식습관과 관련된 문제이다.',\n",
      "                           'department': '내과',\n",
      "                           'disease_category': '기타',\n",
      "                           'disease_name_kor': '비만',\n",
      "                           'intention': '원인',\n",
      "                           'question': '비만의 원인 중 하나는 과다한 음식 섭취와 관련이 있나요?'},\n",
      "              'score': 0.630066097,\n",
      "              'values': []},\n",
      "             {'id': 'HC-A-03393368',\n",
      "              'metadata': {'answer_body': '식습관은 비만의 가장 큰 원인 중 하나로 알려져 있습니다. '\n",
      "                                          '식단이 단순하고 불균형하게 구성되는 경우 과식으로 이어질 수 '\n",
      "                                          '있으며, 음식의 당분과 열량 섭취가 과도하면 비만이 발생할 수 '\n",
      "                                          '있습니다. 고당도 음식, 고지방 음식, 설탕이 들어있는 음식의 '\n",
      "                                          '과다 섭취는 혈당 조절 시스템을 방해하여 비만을 유발할 수 '\n",
      "                                          '있습니다. 또한, 당류가 높은 음료의 섭취도 비만을 초래할 수 '\n",
      "                                          '있습니다. 또한, 음식을 섭취하기 전, 식사 후, 운동 전후로 '\n",
      "                                          '신체 활동을 하여 운동량을 늘리는 것도 중요합니다. 비만 예방을 '\n",
      "                                          '위해서는 식단 관리와 운동 습관 형성이 필요합니다.',\n",
      "                           'answer_conclusion': '과다한 음식 섭취는 비만의 원인 중 하나입니다. '\n",
      "                                                '식습관을 유지하고, 건강한 식단과 운동 습관을 가지는 '\n",
      "                                                '것이 비만 예방에 중요합니다. 비만 예방을 위해 '\n",
      "                                                '건강한 식단을 유지하고 규칙적인 운동을 추천합니다.',\n",
      "                           'answer_intro': '과다한 음식 섭취는 비만의 원인 중 하나입니다.',\n",
      "                           'department': '내과',\n",
      "                           'disease_category': '기타',\n",
      "                           'disease_name_kor': '비만',\n",
      "                           'intention': '원인',\n",
      "                           'question': '과다한 음식 섭취는 비만의 원인이 무엇인가요?'},\n",
      "              'score': 0.626042664,\n",
      "              'values': []},\n",
      "             {'id': 'HC-A-02903270',\n",
      "              'metadata': {'answer_body': '식사 후에 복부 부풀림, 이른 시간에 포만감을 느끼는 현상, '\n",
      "                                          '트림, 상복부 불편함 또는 통증, 속이 쓰림, 메스꺼움(구토감) '\n",
      "                                          '등의 증상을 경험할 수 있습니다. 이러한 증상들은 주로 식사 '\n",
      "                                          '후에 나타나는 불쾌함이며, 음식을 섭취한 후에 식욕이 감소하거나 '\n",
      "                                          '배가 부푸는 느낌을 주기도 합니다.',\n",
      "                           'answer_conclusion': '이러한 증상들이 계속해서 나타난다면 의사와 상담하여 '\n",
      "                                                '원인을 파악하고 적절한 치료를 받아야 합니다.',\n",
      "                           'answer_intro': '식사 후에 소화가 잘 되지 않을 때, 소화불량은 소화가 '\n",
      "                                           '원활하게 이루어지지 않고 있음을 의미합니다.',\n",
      "                           'department': '내과',\n",
      "                           'disease_category': '소화기질환',\n",
      "                           'disease_name_kor': '소화불량',\n",
      "                           'intention': '증상',\n",
      "                           'question': '식사 후 소화불량이란 무엇이며, 어떤 증상이 나타날 수 있나요?'},\n",
      "              'score': 0.624006212,\n",
      "              'values': []},\n",
      "             {'id': 'HC-A-02904160',\n",
      "              'metadata': {'answer_body': '일상에서 가장 중요한 것은 규칙적인 생활 패턴을 유지하는 '\n",
      "                                          '것입니다. 식사 후에는 바로 눕지 않고 적절한 휴식을 취하며 '\n",
      "                                          '잠을 자는 것이 좋습니다. 또한, 너무 강한 알코올과 담배, '\n",
      "                                          '커피, 탄산음료는 소화불량을 악화시킬 수 있으므로 피해야 '\n",
      "                                          '합니다. 식사할 때는 천천히 씹어서 소화가 잘 되도록 합니다. '\n",
      "                                          '식사 후에는 적어도 2~3시간 동안은 활동을 자제하고 휴식을 '\n",
      "                                          '취해야 합니다. 그러나 증상이 호전되지 않는 경우에는 의사와 '\n",
      "                                          '상담하여 위산 분비 감소제나 제산제 등의 약물을 복용하거나 위 '\n",
      "                                          '운동을 촉진시키는 방법을 고려할 수 있습니다.',\n",
      "                           'answer_conclusion': '소화불량은 일상 생활에서 발생할 수 있는 증상이며, '\n",
      "                                                '식습관과 생활 습관을 개선하여 이를 완화할 수 '\n",
      "                                                '있습니다. 만약 증상이 계속되면 의사와 상담하여 '\n",
      "                                                '적절한 치료 방법을 알아보세요.',\n",
      "                           'answer_intro': '식후에 나타나는 소화불량 증상을 완화하기 위해 다양한 방법이 '\n",
      "                                           '존재합니다.',\n",
      "                           'department': '내과',\n",
      "                           'disease_category': '소화기질환',\n",
      "                           'disease_name_kor': '소화불량',\n",
      "                           'intention': '식이, 생활',\n",
      "                           'question': '식사 후 소화불량 증상을 완화하는 방법은 무엇일까요?'},\n",
      "              'score': 0.622883618,\n",
      "              'values': []}],\n",
      " 'namespace': '',\n",
      " 'usage': {'read_units': 15}}\n"
     ]
    }
   ],
   "source": [
    "test(\"밥먹다가 체한거 같아 너무 급하게 먹었나?\")"
   ]
  },
  {
   "cell_type": "code",
   "execution_count": 8,
   "metadata": {},
   "outputs": [
    {
     "data": {
      "application/vnd.jupyter.widget-view+json": {
       "model_id": "860e551824d14a7fb7e781eb2ddb14f3",
       "version_major": 2,
       "version_minor": 0
      },
      "text/plain": [
       "Loading checkpoint shards:   0%|          | 0/2 [00:00<?, ?it/s]"
      ]
     },
     "metadata": {},
     "output_type": "display_data"
    }
   ],
   "source": [
    "model_id=\"google/gemma-2-2b-it\"\n",
    "\n",
    "gemma_2_model = AutoModelForCausalLM.from_pretrained(model_id)\n",
    "gemma_2_tokenizer = AutoTokenizer.from_pretrained(model_id)"
   ]
  },
  {
   "cell_type": "code",
   "execution_count": 105,
   "metadata": {},
   "outputs": [],
   "source": [
    "streamer = TextStreamer(gemma_2_tokenizer, skip_prompt=True, skip_special_tokens=True)\n",
    "\n",
    "gen = pipeline(\n",
    "    task='text-generation',\n",
    "    model=gemma_2_model,\n",
    "    tokenizer=gemma_2_tokenizer,\n",
    "    max_new_tokens=1024,\n",
    "    streamer=streamer,\n",
    "    device=0 if torch.cuda.is_available() else -1,\n",
    "    temperature=.5,\n",
    "    top_p=0.7,\n",
    "    repetition_penalty=1.1,\n",
    "    do_sample=True,\n",
    "    )\n",
    "\n",
    "llm = HuggingFacePipeline(pipeline=gen)"
   ]
  },
  {
   "cell_type": "code",
   "execution_count": 106,
   "metadata": {},
   "outputs": [
    {
     "data": {
      "text/plain": [
       "PromptTemplate(input_variables=['documents', 'question'], input_types={}, partial_variables={}, template=\"<bos><start_of_turn>user\\nInstructions:\\n- If the question involves a health-related issue, suggest possible causes and basic steps the user can take for relief, if applicable.\\n- You should explain in as much detail as possible what you know from the bottom of your heart to the user's questions.\\n- You can refer to the contents of the documents to create a response.\\n- Only use information that is directly related to the question.\\n- If no information is found in the documents, provide an answer based on general knowledge without fabricating details.\\n- You MUST answer in Korean.\\n\\n\\nDocuments: {documents}\\n\\nQuestion: {question}<end_of_turn>\\n<start_of_turn>model\\n\")"
      ]
     },
     "execution_count": 106,
     "metadata": {},
     "output_type": "execute_result"
    }
   ],
   "source": [
    "template = \"\"\"\n",
    "Instructions:\n",
    "- If the question involves a health-related issue, suggest possible causes and basic steps the user can take for relief, if applicable.\n",
    "- You should explain in as much detail as possible what you know from the bottom of your heart to the user's questions.\n",
    "- You can refer to the contents of the documents to create a response.\n",
    "- Only use information that is directly related to the question.\n",
    "- If no information is found in the documents, provide an answer based on general knowledge without fabricating details.\n",
    "- You MUST answer in Korean.\n",
    "\n",
    "\n",
    "Documents: {documents}\n",
    "\n",
    "Question: {question}\n",
    "\"\"\"\n",
    "\n",
    "prev_chat = []\n",
    "\n",
    "chat = [\n",
    "    *prev_chat,\n",
    "     { \"role\": \"user\", \"content\": template}\n",
    "]\n",
    "\n",
    "prompt_template = gemma_2_tokenizer.apply_chat_template(chat, tokenize=False, add_generation_prompt=True)\n",
    "\n",
    "prompt = PromptTemplate(input_variables=[\"question\", \"documents\"], template=prompt_template)\n",
    "prompt"
   ]
  },
  {
   "cell_type": "code",
   "execution_count": 107,
   "metadata": {},
   "outputs": [],
   "source": [
    "rag_chain = (\n",
    "    {\"documents\": retriever, \"question\": RunnablePassthrough()}\n",
    "    | prompt\n",
    "    | llm\n",
    "    | StrOutputParser()\n",
    ")"
   ]
  },
  {
   "cell_type": "code",
   "execution_count": 108,
   "metadata": {},
   "outputs": [
    {
     "name": "stdout",
     "output_type": "stream",
     "text": [
      "머리 아프니면 꼭 병원에 방문해야 합니다.  하지만, 몇 가지 기본적인 방법들을 시도해 볼 수 있습니다. \n",
      "\n",
      "**1. 편안하게 쉬세요.**  편안한 자세로 누워서 휴식을 취하세요. \n",
      "**2. 충분한 수분 섭취:** 물이나 음료를 많이 마셔 체내 수분량을 보충하세요. \n",
      "**3. 차분하고 잠깐 휴식:** 스트레스를 줄이고 잠깐 휴식을 취하면 더욱 빠른 회복을 도울 수 있습니다. \n",
      "\n",
      "\n",
      "\n",
      "**주의 사항:** 이 정보는 일반적인 건강 지침이며, 정확한 진단과 치료를 위해서는 의료 전문가의 도움을 받으십시오. 뇌출혈은 매우 심각한 질환이므로 즉시 의료진에게 문의하십시오. \n",
      "\n"
     ]
    }
   ],
   "source": [
    "answer = rag_chain.invoke(\"머리 아프다\")"
   ]
  },
  {
   "cell_type": "code",
   "execution_count": 101,
   "metadata": {},
   "outputs": [],
   "source": [
    "def stream_response(response, return_output=False):\n",
    "    answer = \"\"\n",
    "    for token in response:\n",
    "        answer += token\n",
    "        print(token, end=\"\", flush=True)\n",
    "    if return_output:\n",
    "        return answer"
   ]
  },
  {
   "cell_type": "markdown",
   "metadata": {},
   "source": [
    "END."
   ]
  }
 ],
 "metadata": {
  "kernelspec": {
   "display_name": "Python 3",
   "language": "python",
   "name": "python3"
  },
  "language_info": {
   "codemirror_mode": {
    "name": "ipython",
    "version": 3
   },
   "file_extension": ".py",
   "mimetype": "text/x-python",
   "name": "python",
   "nbconvert_exporter": "python",
   "pygments_lexer": "ipython3",
   "version": "3.10.12"
  }
 },
 "nbformat": 4,
 "nbformat_minor": 2
}
